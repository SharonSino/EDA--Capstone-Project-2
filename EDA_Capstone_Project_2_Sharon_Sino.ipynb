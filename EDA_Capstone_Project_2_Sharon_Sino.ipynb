{
  "nbformat": 4,
  "nbformat_minor": 0,
  "metadata": {
    "colab": {
      "private_outputs": true,
      "provenance": [],
      "collapsed_sections": [
        "-JiQyfWJYklI",
        "fge-S5ZAYoAp",
        "RoGjAbkUYoAp",
        "y-Ehk30pYrdP",
        "Seke61FWphqN",
        "rFu4xreNphqO",
        "lssrdh5qphqQ",
        "GN8KeOTrRQvr",
        "sAK4xzmSU9O-"
      ],
      "include_colab_link": true
    },
    "kernelspec": {
      "name": "python3",
      "display_name": "Python 3"
    },
    "language_info": {
      "name": "python"
    }
  },
  "cells": [
    {
      "cell_type": "markdown",
      "metadata": {
        "id": "view-in-github",
        "colab_type": "text"
      },
      "source": [
        "<a href=\"https://colab.research.google.com/github/SharonSino/EDA--Capstone-Project-2/blob/main/EDA_Capstone_Project_2_Sharon_Sino.ipynb\" target=\"_parent\"><img src=\"https://colab.research.google.com/assets/colab-badge.svg\" alt=\"Open In Colab\"/></a>"
      ]
    },
    {
      "cell_type": "markdown",
      "source": [
        "# **Project Name**    -\n",
        "\n"
      ],
      "metadata": {
        "id": "vncDsAP0Gaoa"
      }
    },
    {
      "cell_type": "code",
      "source": [],
      "metadata": {
        "id": "P6Al4q7bSrD2"
      },
      "execution_count": null,
      "outputs": []
    },
    {
      "cell_type": "markdown",
      "source": [
        "##### **Project Type**    - EDA/Regression/Classification/Unsupervised\n",
        "##### **Contribution**    - Individual\n",
        "Sharon Sino B"
      ],
      "metadata": {
        "id": "beRrZCGUAJYm"
      }
    },
    {
      "cell_type": "markdown",
      "source": [
        "# **Project Summary -**"
      ],
      "metadata": {
        "id": "FJNUwmbgGyua"
      }
    },
    {
      "cell_type": "markdown",
      "source": [
        "Write the summary here within 500-600 words."
      ],
      "metadata": {
        "id": "F6v_1wHtG2nS"
      }
    },
    {
      "cell_type": "markdown",
      "source": [
        "# **GitHub Link -**"
      ],
      "metadata": {
        "id": "w6K7xa23Elo4"
      }
    },
    {
      "cell_type": "markdown",
      "source": [
        "Provide your GitHub Link here."
      ],
      "metadata": {
        "id": "h1o69JH3Eqqn"
      }
    },
    {
      "cell_type": "markdown",
      "source": [
        "# **Problem Statement**\n"
      ],
      "metadata": {
        "id": "yQaldy8SH6Dl"
      }
    },
    {
      "cell_type": "markdown",
      "source": [
        "**Write Problem Statement Here.**"
      ],
      "metadata": {
        "id": "DpeJGUA3kjGy"
      }
    },
    {
      "cell_type": "markdown",
      "source": [
        "The goal of this analysis is to explore factors influencing app performance on the Google Play Store. Specifically, we aim to understand:\n",
        "\n",
        "User Preferences and Engagement:\n",
        "\n",
        "What drives higher ratings and user reviews?\n",
        "How do free and paid apps compare in terms of ratings, installs, and reviews?\n",
        "Category and Genre Trends:\n",
        "\n",
        "Which app categories and genres dominate the Play Store in terms of popularity, 'installs' and user satisfaction, 'ratings'\n",
        "\n",
        "we also hope to throughly analyse and understand the dataset to see the interesting interalions betweeen the istalls,rating,reviews,size,cost and other factors that revolve aroud operating and improving mobile applications\n",
        "\n",
        "define and build a build a productive business objective\n",
        "\n",
        "all this in python by importing suitable libraries, understanding the different variables,cleaning and data manipulation by using data wrangling methods , visualizations by building different charts and understanding their function for app gowth/decline"
      ],
      "metadata": {
        "id": "_zFBTfb0k2It"
      }
    },
    {
      "cell_type": "markdown",
      "source": [
        "#### **Define Your Business Objective?**"
      ],
      "metadata": {
        "id": "PH-0ReGfmX4f"
      }
    },
    {
      "cell_type": "markdown",
      "source": [
        "Business Objective for EDA on the Excel Data:\n",
        "The primary objective of performing Exploratory Data Analysis (EDA) on the provided Excel data is to gain actionable insights and identify patterns that can support data-driven decision-making for app development, marketing, and monetization strategies. Specifically, the analysis aims to:\n",
        "\n",
        "Understand Market Trends:\n",
        "\n",
        "Identify popular app categories, user preferences, and emerging trends in the app market.\n",
        "Evaluate Performance Drivers:\n",
        "\n",
        "Determine which factors (e.g., rating, number of reviews, installs, price) significantly impact app success and user engagement.\n",
        "Optimize Monetization Strategies:\n",
        "\n",
        "Analyze the distribution of free and paid apps across categories to identify profitable niches or oversaturated markets.\n",
        "Discover Growth Opportunities:\n",
        "\n",
        "Pinpoint underrepresented categories or pricing strategies that could be leveraged for new app launches or updates.\n",
        "Improve User Engagement:\n",
        "\n",
        "Understand how app size, category, and price correlate with user feedback and installs, guiding improvements to app offerings.\n",
        "Assess Competition:\n",
        "\n",
        "Study the competitive landscape within various app categories to refine strategies for differentiation."
      ],
      "metadata": {
        "id": "PhDvGCAqmjP1"
      }
    },
    {
      "cell_type": "markdown",
      "source": [
        "To maximize app adoption, user retention, and revenue by leveraging data-driven insights to identify high-potential categories, optimize app features, and tailor strategies for diverse market segments.\"\n",
        "\n",
        "This objective ensures a focus on:\n",
        "\n",
        "Expanding User Base: Through targeting popular categories, adopting freemium models, and localizing for emerging markets.\n",
        "Improving Retention: By enhancing user experience, addressing negative feedback, and regularly updating apps based on user preferences.\n",
        "Driving Revenue Growth: By exploring niche paid app opportunities, implementing competitive pricing, and leveraging in-app monetization models."
      ],
      "metadata": {
        "id": "yEJTJPThrXlW"
      }
    },
    {
      "cell_type": "markdown",
      "source": [
        "# **General Guidelines** : -  "
      ],
      "metadata": {
        "id": "mDgbUHAGgjLW"
      }
    },
    {
      "cell_type": "markdown",
      "source": [
        "1.   Well-structured, formatted, and commented code is required.\n",
        "2.   Exception Handling, Production Grade Code & Deployment Ready Code will be a plus. Those students will be awarded some additional credits.\n",
        "     \n",
        "     The additional credits will have advantages over other students during Star Student selection.\n",
        "       \n",
        "             [ Note: - Deployment Ready Code is defined as, the whole .ipynb notebook should be executable in one go\n",
        "                       without a single error logged. ]\n",
        "\n",
        "3.   Each and every logic should have proper comments.\n",
        "4. You may add as many number of charts you want. Make Sure for each and every chart the following format should be answered.\n",
        "        \n",
        "\n",
        "```\n",
        "# Chart visualization code\n",
        "```\n",
        "            \n",
        "\n",
        "*   Why did you pick the specific chart?\n",
        "*   What is/are the insight(s) found from the chart?\n",
        "* Will the gained insights help creating a positive business impact?\n",
        "Are there any insights that lead to negative growth? Justify with specific reason.\n",
        "\n",
        "5. You have to create at least 20 logical & meaningful charts having important insights.\n",
        "\n",
        "\n",
        "[ Hints : - Do the Vizualization in  a structured way while following \"UBM\" Rule.\n",
        "\n",
        "U - Univariate Analysis,\n",
        "\n",
        "B - Bivariate Analysis (Numerical - Categorical, Numerical - Numerical, Categorical - Categorical)\n",
        "\n",
        "M - Multivariate Analysis\n",
        " ]\n",
        "\n",
        "\n",
        "\n"
      ],
      "metadata": {
        "id": "ZrxVaUj-hHfC"
      }
    },
    {
      "cell_type": "markdown",
      "source": [
        "# ***Let's Begin !***"
      ],
      "metadata": {
        "id": "O_i_v8NEhb9l"
      }
    },
    {
      "cell_type": "markdown",
      "source": [
        "## ***1. Know Your Data***"
      ],
      "metadata": {
        "id": "HhfV-JJviCcP"
      }
    },
    {
      "cell_type": "markdown",
      "source": [
        "### Import Libraries"
      ],
      "metadata": {
        "id": "Y3lxredqlCYt"
      }
    },
    {
      "cell_type": "code",
      "source": [
        "# Import Libraries\n",
        "import numpy as np\n",
        "import pandas as pd\n",
        "import seaborn as sns\n",
        "import matplotlib.pyplot as plt"
      ],
      "metadata": {
        "id": "M8Vqi-pPk-HR"
      },
      "execution_count": null,
      "outputs": []
    },
    {
      "cell_type": "code",
      "source": [
        "# Import Libraries\n",
        "import numpy as np  #for numerical computations.\n",
        "import pandas as pd #for data manipulation.\n",
        "import seaborn as sns  #for statistical visualizations.\n",
        "import matplotlib.pyplot as plt#for creating visualizations.\n",
        "from wordcloud import WordCloud#for creating word clouds."
      ],
      "metadata": {
        "id": "G3DWm4rcfVpo"
      },
      "execution_count": null,
      "outputs": []
    },
    {
      "cell_type": "markdown",
      "source": [
        "### Dataset Loading"
      ],
      "metadata": {
        "id": "3RnN4peoiCZX"
      }
    },
    {
      "cell_type": "code",
      "source": [
        "from google.colab import drive# Import the drive module from google.colab for mounting Google Drive.\n",
        "drive.mount('/content/drive')# Mount your Google Drive to the '/content/drive' directory in Colab."
      ],
      "metadata": {
        "id": "v_OVX1wxxRgI"
      },
      "execution_count": null,
      "outputs": []
    },
    {
      "cell_type": "code",
      "source": [
        "data = pd.read_csv('/content/drive/MyDrive/Play Store Data.csv')  # Reads the CSV file into a Pandas DataFrame."
      ],
      "metadata": {
        "id": "esiUUh3ZgB3K"
      },
      "execution_count": null,
      "outputs": []
    },
    {
      "cell_type": "markdown",
      "source": [
        "### Dataset First View"
      ],
      "metadata": {
        "id": "x71ZqKXriCWQ"
      }
    },
    {
      "cell_type": "code",
      "source": [
        "# Dataset First Look\n",
        "data# Displays the DataFrame.\n"
      ],
      "metadata": {
        "id": "LWNFOSvLl09H"
      },
      "execution_count": null,
      "outputs": []
    },
    {
      "cell_type": "code",
      "source": [
        "data.head()  # Displays the first 5 rows of the DataFrame."
      ],
      "metadata": {
        "id": "ClFSckb0hk3d"
      },
      "execution_count": null,
      "outputs": []
    },
    {
      "cell_type": "code",
      "source": [
        "data.tail()  # Displays the last 5 rows of the DataFrame."
      ],
      "metadata": {
        "id": "i0nlCnjZhy5t"
      },
      "execution_count": null,
      "outputs": []
    },
    {
      "cell_type": "markdown",
      "source": [
        "### Dataset Rows & Columns count"
      ],
      "metadata": {
        "id": "7hBIi_osiCS2"
      }
    },
    {
      "cell_type": "code",
      "source": [
        "# Dataset Rows & Columns count\n",
        "data.shape  # Returns a tuple representing the dimensions of the DataFrame (rows, columns)."
      ],
      "metadata": {
        "id": "w7rflJf9h6nL"
      },
      "execution_count": null,
      "outputs": []
    },
    {
      "cell_type": "markdown",
      "source": [
        "### Dataset Information"
      ],
      "metadata": {
        "id": "JlHwYmJAmNHm"
      }
    },
    {
      "cell_type": "markdown",
      "source": [],
      "metadata": {
        "id": "kqdyiNA84Slm"
      }
    },
    {
      "cell_type": "code",
      "source": [
        "data.dtypes  # Returns the data types of each column in the DataFrame."
      ],
      "metadata": {
        "id": "C7SWyrM9iY3e"
      },
      "execution_count": null,
      "outputs": []
    },
    {
      "cell_type": "code",
      "source": [
        "# Dataset Info\n",
        "data.info()  # Prints a concise summary of the DataFrame, including data types, non-null values, and memory usage."
      ],
      "metadata": {
        "id": "gT29cDoaiZ9f"
      },
      "execution_count": null,
      "outputs": []
    },
    {
      "cell_type": "markdown",
      "source": [
        "#### Duplicate Values"
      ],
      "metadata": {
        "id": "35m5QtbWiB9F"
      }
    },
    {
      "cell_type": "code",
      "source": [
        "# Dataset Duplicate Value Count\n",
        "duplicate_count = data.duplicated().sum()  # Calculate the number of duplicate rows in the DataFrame.\n",
        "print(f\"Number of duplicate rows: {duplicate_count}\")  # Print the number of duplicate rows."
      ],
      "metadata": {
        "id": "7jpUQ0TRjS-h"
      },
      "execution_count": null,
      "outputs": []
    },
    {
      "cell_type": "code",
      "source": [
        "data.drop_duplicates(inplace=True)"
      ],
      "metadata": {
        "id": "SilFq4_xh4-2"
      },
      "execution_count": null,
      "outputs": []
    },
    {
      "cell_type": "code",
      "source": [
        "data.drop_duplicates(inplace=True)  # Removes duplicate rows from the DataFrame, modifying it directly."
      ],
      "metadata": {
        "id": "bYQ20IK6kkfp"
      },
      "execution_count": null,
      "outputs": []
    },
    {
      "cell_type": "markdown",
      "source": [
        "#### Missing Values/Null Values"
      ],
      "metadata": {
        "id": "PoPl-ycgm1ru"
      }
    },
    {
      "cell_type": "code",
      "source": [
        "# Missing Values/Null Values Count\n",
        "missing_values_count = data.isnull().sum()  # Calculate the number of missing values in each column.\n",
        "print(missing_values_count)  # Print the count of missing values for each column."
      ],
      "metadata": {
        "id": "7V1WY-t2lBCd"
      },
      "execution_count": null,
      "outputs": []
    },
    {
      "cell_type": "code",
      "source": [
        "# Visualizing the missing values\n",
        "\n",
        "\n",
        "sns.heatmap(data.isnull(), cbar=False, cmap='viridis')  # Creates a heatmap to visualize missing values.\n",
        "plt.title('Missing Values Heatmap')  # Sets the title of the heatmap.\n",
        "plt.xlabel('Columns')  # Labels the x-axis as 'Columns'.\n",
        "plt.ylabel('Rows')  # Labels the y-axis as 'Rows'.\n",
        "plt.show()  # Displays the heatmap."
      ],
      "metadata": {
        "id": "k9WFM0_2lQqd"
      },
      "execution_count": null,
      "outputs": []
    },
    {
      "cell_type": "markdown",
      "source": [
        "### What did you know about your dataset?"
      ],
      "metadata": {
        "id": "H0kj-8xxnORC"
      }
    },
    {
      "cell_type": "markdown",
      "source": [
        "App: The name of the app.\n",
        "\n",
        "Category: The category the app belongs to, such as Education, Lifestyle, Games, etc.\n",
        "\n",
        "Rating: The average user rating for the app (on a scale ranging from 1-5).\n",
        "\n",
        "Reviews: The number of user reviews the app has received.\n",
        "\n",
        "Size: The size of the app in MB KB\n",
        "\n",
        "Installs: The number of installs/downloads the app has received.\n",
        "\n",
        "Type: Indicates whether the app is free or paid.\n",
        "\n",
        "Price: The price of the app, with most likely 0 for free apps.\n",
        "\n",
        "Content Rating: The intended audience, such as \"Everyone\" or \"Teen.\"\n",
        "\n",
        "Genres: A more specific classification of the app's Theme or type (e.g., Puzzle, Casual, or Educational).\n",
        "Last Updated: The date the app was last updated.\n",
        "Current Ver: The current version of the app.\n",
        "Android Ver: The minimum Android version required to run the app."
      ],
      "metadata": {
        "id": "gfoNAAC-nUe_"
      }
    },
    {
      "cell_type": "markdown",
      "source": [
        "## ***2. Understanding Your Variables***"
      ],
      "metadata": {
        "id": "nA9Y7ga8ng1Z"
      }
    },
    {
      "cell_type": "code",
      "source": [
        "# Dataset Columns\n",
        "data.columns # This line of code displays the names of all columns in the DataFrame 'data'."
      ],
      "metadata": {
        "id": "tsV_IF9Rz0UH"
      },
      "execution_count": null,
      "outputs": []
    },
    {
      "cell_type": "code",
      "source": [
        "# Dataset Describe\n",
        "data.describe() # This line generates descriptive statistics for the numerical columns in the DataFrame 'data'."
      ],
      "metadata": {
        "id": "D8VVy9UI0LP2"
      },
      "execution_count": null,
      "outputs": []
    },
    {
      "cell_type": "markdown",
      "source": [
        "### Variables Description"
      ],
      "metadata": {
        "id": "PBTbrJXOngz2"
      }
    },
    {
      "cell_type": "code",
      "source": [
        "data.describe(include='object')# categorical columns"
      ],
      "metadata": {
        "id": "321ckDfxX0Or"
      },
      "execution_count": null,
      "outputs": []
    },
    {
      "cell_type": "markdown",
      "source": [
        "Answer Here"
      ],
      "metadata": {
        "id": "aJV4KIxSnxay"
      }
    },
    {
      "cell_type": "markdown",
      "source": [
        "### Check Unique Values for each variable."
      ],
      "metadata": {
        "id": "u3PMJOP6ngxN"
      }
    },
    {
      "cell_type": "code",
      "source": [
        "# Check Unique Values for each variable. # This is a general comment describing the purpose of the code block.\n",
        "for column in data.columns: # Iterates through each column name in the DataFrame 'data'.\n",
        "    unique_values = data[column].unique() # For the current column, gets all unique values using the 'unique()' method.\n",
        "    print(f\"Unique values for {column}: {unique_values}\") # Prints a formatted string showing the column name and its unique values."
      ],
      "metadata": {
        "id": "t0LOHdlJVLnq"
      },
      "execution_count": null,
      "outputs": []
    },
    {
      "cell_type": "code",
      "source": [
        "for column in data.columns:  # Iterate through each column in the DataFrame\n",
        "    num_unique = data[column].nunique()  # Calculate the number of unique values in the current column\n",
        "    print(f\"Number of unique values for {column}: {num_unique}\")  # Print the column name and its unique value count"
      ],
      "metadata": {
        "id": "9EXDwUCqVVAW"
      },
      "execution_count": null,
      "outputs": []
    },
    {
      "cell_type": "markdown",
      "source": [
        "## 3. ***Data Wrangling***"
      ],
      "metadata": {
        "id": "dauF4eBmngu3"
      }
    },
    {
      "cell_type": "markdown",
      "source": [
        "### Data Wrangling Code"
      ],
      "metadata": {
        "id": "bKJF3rekwFvQ"
      }
    },
    {
      "cell_type": "code",
      "source": [
        "# Write your code to make your dataset analysis ready.\n",
        "data['Rating'].fillna(data['Rating'].median())"
      ],
      "metadata": {
        "id": "wk-9a2fpoLcV"
      },
      "execution_count": null,
      "outputs": []
    },
    {
      "cell_type": "code",
      "source": [
        "# Write your code to make your dataset analysis ready.\n",
        "data['Rating'] = data['Rating'].fillna(data['Rating'].median()) # Fill missing 'Rating' values with the median rating."
      ],
      "metadata": {
        "id": "8Ai8lQLrVa6M"
      },
      "execution_count": null,
      "outputs": []
    },
    {
      "cell_type": "code",
      "source": [
        "data['Rating'] = data['Rating'].fillna(data['Rating'].median())"
      ],
      "metadata": {
        "id": "EH1E6q0W1Epq"
      },
      "execution_count": null,
      "outputs": []
    },
    {
      "cell_type": "code",
      "source": [
        "data['Rating'] = data['Rating'].fillna(data['Rating'].median()) # Fill missing 'Rating' values with the median rating."
      ],
      "metadata": {
        "id": "ssooK8QkXwpY"
      },
      "execution_count": null,
      "outputs": []
    },
    {
      "cell_type": "code",
      "source": [
        "data['Reviews'] = pd.to_numeric(data['Reviews'], errors='coerce')"
      ],
      "metadata": {
        "id": "KVpH71pb2LCe"
      },
      "execution_count": null,
      "outputs": []
    },
    {
      "cell_type": "code",
      "source": [
        "data['Reviews'] = pd.to_numeric(data['Reviews'], errors='coerce') # Convert 'Reviews' column to numeric, replacing non-numeric values with NaN."
      ],
      "metadata": {
        "id": "uftdTqxcXxNc"
      },
      "execution_count": null,
      "outputs": []
    },
    {
      "cell_type": "code",
      "source": [
        "data['Last Updated'] = pd.to_datetime(data['Last Updated'], errors='coerce')"
      ],
      "metadata": {
        "id": "VNE9ZFLM4Rcc"
      },
      "execution_count": null,
      "outputs": []
    },
    {
      "cell_type": "code",
      "source": [
        "data['Last Updated'] = pd.to_datetime(data['Last Updated'], errors='coerce') # Convert 'Last Updated' column to datetime objects, handling errors."
      ],
      "metadata": {
        "id": "tYcISmYyYCMP"
      },
      "execution_count": null,
      "outputs": []
    },
    {
      "cell_type": "code",
      "source": [
        "data['Current Ver'].fillna('Unknown', inplace=False)\n",
        "data['Current Ver'] = data['Current Ver'] # Avoiding chained assignment warning\n",
        "data['Android Ver'].fillna('Varies with device', inplace=False) #Avoiding chained assignment warning\n",
        "data['Android Ver'] = data['Android Ver']"
      ],
      "metadata": {
        "id": "U3D1mKN15Wd1"
      },
      "execution_count": null,
      "outputs": []
    },
    {
      "cell_type": "code",
      "source": [
        "data['Current Ver'].fillna('Unknown', inplace=False)  # Fill NaN in 'Current Ver' with 'Unknown', but create a copy\n",
        "data['Current Ver'] = data['Current Ver']  # Assign the copy back to the original column, avoiding chained assignment\n",
        "data['Android Ver'].fillna('Varies with device', inplace=False)  # Fill NaN in 'Android Ver' with 'Varies with device', but create a copy\n",
        "data['Android Ver'] = data['Android Ver']  # Assign the copy back, avoiding chained assignment"
      ],
      "metadata": {
        "id": "KB3LJFFEYbYa"
      },
      "execution_count": null,
      "outputs": []
    },
    {
      "cell_type": "code",
      "source": [
        "data['Genres'] = data['Genres'].str.split(';').str[0]"
      ],
      "metadata": {
        "id": "imT4LLxS8omH"
      },
      "execution_count": null,
      "outputs": []
    },
    {
      "cell_type": "code",
      "source": [
        "data['Genres'] = data['Genres'].str.split(';').str[0] # Extract the primary genre from the 'Genres' column."
      ],
      "metadata": {
        "id": "-wksvfSmYsge"
      },
      "execution_count": null,
      "outputs": []
    },
    {
      "cell_type": "code",
      "source": [
        "data['Content Rating'] = data['Content Rating'].fillna('Unrated')"
      ],
      "metadata": {
        "id": "DNfliBEX9Bdy"
      },
      "execution_count": null,
      "outputs": []
    },
    {
      "cell_type": "code",
      "source": [
        "data['Content Rating'] = data['Content Rating'].fillna('Unrated') # Fill missing values in 'Content Rating' with 'Unrated'."
      ],
      "metadata": {
        "id": "_qS_OM3oYvIc"
      },
      "execution_count": null,
      "outputs": []
    },
    {
      "cell_type": "code",
      "source": [
        "data['Installs'] = data['Installs'].astype(str).str.replace('[+,]', '', regex=True)\n",
        "data['Installs'] = data['Installs'].replace('Free', np.nan)\n",
        "data['Installs'] = pd.to_numeric(data['Installs'], errors='coerce')  # Replace 'Free' with NaN and then convert"
      ],
      "metadata": {
        "id": "ytm8-0R1-l-X"
      },
      "execution_count": null,
      "outputs": []
    },
    {
      "cell_type": "code",
      "source": [
        "data['Installs'] = data['Installs'].astype(str).str.replace('[+,]', '', regex=True) # Remove '+' and ',' characters from 'Installs'\n",
        "data['Installs'] = data['Installs'].replace('Free', np.nan) # Replace 'Free' with NaN\n",
        "data['Installs'] = pd.to_numeric(data['Installs'], errors='coerce')  # Convert 'Installs' to numeric, handling errors"
      ],
      "metadata": {
        "id": "FBzxnrTnZAm7"
      },
      "execution_count": null,
      "outputs": []
    },
    {
      "cell_type": "code",
      "source": [
        "\n",
        "\n",
        "\n",
        "# Replace 'Varies with device' with NaN\n",
        "data['Size'] = data['Size'].replace('Varies with device', np.nan)\n",
        "\n",
        "def convert_size(size):\n",
        "    if isinstance(size, str):\n",
        "        if 'k' in size:\n",
        "            try:\n",
        "                size_mb = float(size.replace('k', '')) / 1024\n",
        "                return round(size_mb, 2)\n",
        "            except ValueError:\n",
        "                return np.nan  # Handle errors during float conversion\n",
        "        elif 'M' in size:\n",
        "            try:\n",
        "                return round(int(size.replace('M', '')), 2)\n",
        "            except ValueError:\n",
        "                return np.nan  # Handle errors during int conversion\n",
        "    return np.nan  # Handle non-string or invalid formats\n",
        "\n",
        "data['Size'] = data['Size'].apply(convert_size)\n",
        "\n",
        "# Calculate and fill NaN with median\n",
        "median_size = data['Size'].median()\n",
        "data['Size'] = data['Size'].fillna(median_size)"
      ],
      "metadata": {
        "id": "JPQvIkpgAEvM"
      },
      "execution_count": null,
      "outputs": []
    },
    {
      "cell_type": "code",
      "source": [
        "# Replace 'Varies with device' with NaN\n",
        "data['Size'] = data['Size'].replace('Varies with device', np.nan)  # Replaces \"Varies with device\" with NaN\n",
        "\n",
        "def convert_size(size):  # Defines a function to convert app sizes to a standard format\n",
        "    if isinstance(size, str):  # Checks if the size is a string\n",
        "        if 'k' in size:  # Checks if the size is in kilobytes\n",
        "            try:  # Tries to convert the size to megabytes\n",
        "                size_mb = float(size.replace('k', '')) / 1024\n",
        "                return round(size_mb, 2)  # Returns the size in megabytes, rounded to 2 decimal places\n",
        "            except ValueError:  # Handles errors during float conversion\n",
        "                return np.nan\n",
        "        elif 'M' in size:  # Checks if the size is in megabytes\n",
        "            try:  # Tries to convert the size to an integer\n",
        "                return round(int(size.replace('M', '')), 2)  # Returns the size in megabytes, rounded to 2 decimal places\n",
        "            except ValueError:  # Handles errors during integer conversion\n",
        "                return np.nan\n",
        "    return np.nan  # Returns NaN for non-string or invalid formats\n",
        "\n",
        "data['Size'] = data['Size'].apply(convert_size)  # Applies the convert_size function to the 'Size' column\n",
        "\n",
        "# Calculate and fill NaN with median\n",
        "median_size = data['Size'].median()  # Calculates the median size\n",
        "data['Size'] = data['Size'].fillna(median_size)  # Fills NaN values with the median size"
      ],
      "metadata": {
        "id": "X_u-0sfl6aYb"
      },
      "execution_count": null,
      "outputs": []
    },
    {
      "cell_type": "code",
      "source": [
        "# Replace 'Varies with device' with NaN\n",
        "data['Size'] = data['Size'].replace('Varies with device', np.nan)\n",
        "\n",
        "def convert_size(size):\n",
        "    if isinstance(size, str):\n",
        "        if 'k' in size:\n",
        "            try:\n",
        "                size_mb = float(size.replace('k', '')) / 1024\n",
        "                return round(size_mb, 2)\n",
        "            except ValueError:\n",
        "                return np.nan  # Handle errors during float conversion\n",
        "        elif 'M' in size:\n",
        "            try:\n",
        "                return round(int(size.replace('M', '')), 2)\n",
        "            except ValueError:\n",
        "                return np.nan  # Handle errors during int conversion\n",
        "    return np.nan  # Handle non-string or invalid formats\n",
        "\n",
        "data['Size'] = data['Size'].apply(convert_size)\n",
        "\n",
        "# Calculate and fill NaN with median\n",
        "# --- Corrected part ---\n",
        "data['Size'] = pd.to_numeric(data['Size'], errors='coerce')  # Explicitly convert to numeric\n",
        "median_size = data['Size'].median()\n",
        "data['Size'] = data['Size'].fillna(median_size)  # Use direct assignment for fillna\n",
        "# --- End of corrected part ---"
      ],
      "metadata": {
        "id": "2VhsI9Sh8hwr"
      },
      "execution_count": null,
      "outputs": []
    },
    {
      "cell_type": "code",
      "source": [
        "data['Type'] = data['Type'].fillna('Free')"
      ],
      "metadata": {
        "id": "NjgYUJA5-MUl"
      },
      "execution_count": null,
      "outputs": []
    },
    {
      "cell_type": "code",
      "source": [
        "data['Type'] = data['Type'].fillna('Free') # Fill missing values in the 'Type' column with 'Free'."
      ],
      "metadata": {
        "id": "XiY3ow6tZGCd"
      },
      "execution_count": null,
      "outputs": []
    },
    {
      "cell_type": "code",
      "source": [
        "data['Price'] = data['Price'].replace('Everyone', np.nan) # Handle 'Everyone' first\n",
        "\n",
        "# Now it's safe to remove '$' and convert to numeric\n",
        "data['Price'] = data['Price'].astype(str).str.replace('$', '', regex=False)\n",
        "data['Price'] = pd.to_numeric(data['Price'], errors='coerce')\n"
      ],
      "metadata": {
        "id": "TSpyq4wN9ZWy"
      },
      "execution_count": null,
      "outputs": []
    },
    {
      "cell_type": "code",
      "source": [
        "data['Price'] = data['Price'].replace('Everyone', np.nan)  # Replace \"Everyone\" with NaN\n",
        "# Now it's safe to remove '$' and convert to numeric\n",
        "data['Price'] = data['Price'].astype(str).str.replace('$', '', regex=False)  # Remove '$' and convert to string\n",
        "data['Price'] = pd.to_numeric(data['Price'], errors='coerce')  # Convert to numeric, handle errors"
      ],
      "metadata": {
        "id": "NBJef8pJ57yy"
      },
      "execution_count": null,
      "outputs": []
    },
    {
      "cell_type": "code",
      "source": [
        "# Fill missing values\n",
        "data['Reviews'] = data['Reviews'].fillna(data['Reviews'].median())  # Median for numeric\n",
        "data['Installs'] = data['Installs'].fillna(data['Installs'].median())  # Median for numeric\n",
        "data['Price'] = data['Price'].fillna(0)  #Fill with 0 for free\n",
        "data['Last Updated'] = data['Last Updated'].fillna(data['Last Updated'].mode()[0])  # Mode for dates\n",
        "data['Current Ver'] = data['Current Ver'].fillna('Unknown')  # Placeholder for missing versions\n",
        "data['Android Ver'] = data['Android Ver'].fillna(data['Android Ver'].mode()[0]) #Fill with mode"
      ],
      "metadata": {
        "id": "io5d8GMWZgWM"
      },
      "execution_count": null,
      "outputs": []
    },
    {
      "cell_type": "code",
      "source": [
        "# Fill missing values\n",
        "data['Reviews'] = data['Reviews'].fillna(data['Reviews'].median())  # Median for numeric\n",
        "data['Installs'] = data['Installs'].fillna(data['Installs'].median())  # Median for numeric\n",
        "data['Price'] = data['Price'].fillna(0)\n",
        "data['Last Updated'] = data['Last Updated'].fillna(data['Last Updated'].mode()[0])  # Mode for dates\n",
        "data['Current Ver'] = data['Current Ver'].fillna('Unknown')  # Placeholder\n",
        "data['Android Ver'] = data['Android Ver'].fillna(data['Android Ver'].mode()[0])"
      ],
      "metadata": {
        "id": "JBcAdtJHBMIc"
      },
      "execution_count": null,
      "outputs": []
    },
    {
      "cell_type": "code",
      "source": [
        "# Fill missing values\n",
        "data['Reviews'] = data['Reviews'].fillna(data['Reviews'].median())  # Median for numeric\n",
        "data['Installs'] = data['Installs'].fillna(data['Installs'].median())  # Median for numeric\n",
        "data['Price'] = data['Price'].fillna(0)  # Fill with 0 for free apps\n",
        "data['Last Updated'] = data['Last Updated'].fillna(data['Last Updated'].mode()[0])  # Mode for dates\n",
        "data['Current Ver'] = data['Current Ver'].fillna('Unknown')  # Placeholder for missing versions\n",
        "data['Android Ver'] = data['Android Ver'].fillna(data['Android Ver'].mode()[0])  # Fill with mode for Android version"
      ],
      "metadata": {
        "id": "PfrtEz5EZtxp"
      },
      "execution_count": null,
      "outputs": []
    },
    {
      "cell_type": "markdown",
      "source": [
        "### What all manipulations have you done and insights you found?"
      ],
      "metadata": {
        "id": "MSa1f5Uengrz"
      }
    },
    {
      "cell_type": "markdown",
      "source": [
        "Answer Here."
      ],
      "metadata": {
        "id": "LbyXE7I1olp8"
      }
    },
    {
      "cell_type": "markdown",
      "source": [
        "## ***4. Data Vizualization, Storytelling & Experimenting with charts : Understand the relationships between variables***"
      ],
      "metadata": {
        "id": "GF8Ens_Soomf"
      }
    },
    {
      "cell_type": "markdown",
      "source": [
        "#### Chart - 1"
      ],
      "metadata": {
        "id": "0wOQAZs5pc--"
      }
    },
    {
      "cell_type": "code",
      "source": [
        "# Chart - 1 visualization code\n",
        "sns.histplot(data['Rating'], bins=20, kde=True)\n",
        "plt.title('Distribution of Ratings')\n",
        "plt.xlabel('Rating')\n",
        "plt.ylabel('Frequency')\n",
        "plt.show()"
      ],
      "metadata": {
        "id": "7v_ESjsspbW7"
      },
      "execution_count": null,
      "outputs": []
    },
    {
      "cell_type": "code",
      "source": [
        "# Chart - 1 visualization code\n",
        "sns.histplot(data['Rating'], bins=20, kde=True)  # Create a histogram with 20 bins and a kernel density estimate\n",
        "plt.title('Distribution of Ratings')  # Set the title of the chart\n",
        "plt.xlabel('Rating')  # Set the label for the x-axis\n",
        "plt.ylabel('Frequency')  # Set the label for the y-axis\n",
        "plt.show()  # Display the chart"
      ],
      "metadata": {
        "id": "EtqF1DRlaID_"
      },
      "execution_count": null,
      "outputs": []
    },
    {
      "cell_type": "markdown",
      "source": [
        "##### 1. Why did you pick the specific chart?"
      ],
      "metadata": {
        "id": "K5QZ13OEpz2H"
      }
    },
    {
      "cell_type": "markdown",
      "source": [
        "This chart helps analyze the overall sentiment and satisfaction of users, as ratings directly reflect user experience and app quality.\n",
        "\n"
      ],
      "metadata": {
        "id": "XESiWehPqBRc"
      }
    },
    {
      "cell_type": "markdown",
      "source": [
        "##### 2. What is/are the insight(s) found from the chart?"
      ],
      "metadata": {
        "id": "lQ7QKXXCp7Bj"
      }
    },
    {
      "cell_type": "markdown",
      "source": [
        "*  Most ratings are tightly clustered around 4.0-5.0, indicating a general tendency for apps to receive positive feedback.\n",
        "\n",
        "* Ratings below 3.0 have very low frequency, suggesting that poorly rated apps are uncommon.\n",
        "\n",
        "\n",
        "* The highest frequency of ratings is near 4.5, highlighting this as the most common satisfaction level for users.\n",
        "\n",
        "*  The data follows a steep, narrow curve, reflecting limited diversity in user ratings and potential rating inflation.\n",
        "*  few outliers this could be due to some error as max for rating is 5\n",
        "\n",
        "\n",
        "\n"
      ],
      "metadata": {
        "id": "C_j1G7yiqdRP"
      }
    },
    {
      "cell_type": "markdown",
      "source": [
        "##### 3. Will the gained insights help creating a positive business impact?\n",
        "\n",
        "Yes\n",
        "\n",
        "Are there any insights that lead to negative growth? Justify with specific reason.\n",
        "\n",
        "Although rare, the presence of apps with ratings below 3.0 can indicate dissatisfaction, likely leading to negative user retention and poor app reviews."
      ],
      "metadata": {
        "id": "448CDAPjqfQr"
      }
    },
    {
      "cell_type": "markdown",
      "source": [
        "#### Chart - 2"
      ],
      "metadata": {
        "id": "KSlN3yHqYklG"
      }
    },
    {
      "cell_type": "code",
      "source": [
        "# Chart - 2 visualization code\n",
        "plt.figure(figsize=(10,3))\n",
        "sns.countplot(x=data['Installs'],color='green')\n",
        "plt.xticks(rotation=45)\n",
        "plt.show()"
      ],
      "metadata": {
        "id": "R4YgtaqtYklH"
      },
      "execution_count": null,
      "outputs": []
    },
    {
      "cell_type": "code",
      "source": [
        "# Chart - 2 visualization code\n",
        "plt.figure(figsize=(10,3)) # Create a figure with a specific size (width=10, height=3)\n",
        "sns.countplot(x=data['Installs'],color='green') # Create a countplot with 'Installs' on the x-axis and green bars\n",
        "plt.xticks(rotation=45) # Rotate x-axis labels by 45 degrees for better readability\n",
        "plt.show() # Display the chart"
      ],
      "metadata": {
        "id": "82UkI6KiaRBc"
      },
      "execution_count": null,
      "outputs": []
    },
    {
      "cell_type": "markdown",
      "source": [
        "##### 1. Why did you pick the specific chart?"
      ],
      "metadata": {
        "id": "t6dVpIINYklI"
      }
    },
    {
      "cell_type": "markdown",
      "source": [
        "The chart reveals the distribution of apps across different install ranges, helping identify popular install thresholds and market saturation points."
      ],
      "metadata": {
        "id": "5aaW0BYyYklI"
      }
    },
    {
      "cell_type": "markdown",
      "source": [
        "##### 2. What is/are the insight(s) found from the chart?"
      ],
      "metadata": {
        "id": "ijmpgYnKYklI"
      }
    },
    {
      "cell_type": "markdown",
      "source": [
        "Answer Here\n",
        "\n",
        "* Most apps fall in the range of 1,000,000 to 10,000,000 installs, indicating a strong presence of moderately popular apps.\n",
        "\n",
        "*  The install count is right-skewed, with fewer apps achieving extremely high install counts (e.g., above 100,000,000).\n",
        "\n",
        "*  A notable number of apps have very low installs (below 10 or 100), reflecting limited market reach or niche appeal.\n",
        "\n",
        "* The sharp decline in app count after the 10,000,000-install mark highlights the challenge apps face in achieving mass Users.\n",
        "\n",
        "\n"
      ],
      "metadata": {
        "id": "PSx9atu2YklI"
      }
    },
    {
      "cell_type": "markdown",
      "source": [
        "##### 3. Will the gained insights help creating a positive business impact?\n",
        "\n",
        "  Yes\n",
        "  \n",
        "Are there any insights that lead to negative growth? Justify with specific reason.\n",
        "\n",
        "A significant number of apps have very low install counts . These apps may struggle to gain visibility, user trust, or competitive advantage, leading to stagnation or decline in growth."
      ],
      "metadata": {
        "id": "-JiQyfWJYklI"
      }
    },
    {
      "cell_type": "markdown",
      "source": [
        "Answer Here"
      ],
      "metadata": {
        "id": "BcBbebzrYklV"
      }
    },
    {
      "cell_type": "markdown",
      "source": [
        "#### Chart - 3"
      ],
      "metadata": {
        "id": "EM7whBJCYoAo"
      }
    },
    {
      "cell_type": "code",
      "source": [
        "# Chart - 3 visualization code\n",
        "data['Category'].value_counts().plot(kind='bar', figsize=(12, 6))\n",
        "plt.title('Top App Categories')\n",
        "plt.xlabel('Category')\n",
        "plt.ylabel('Count')\n",
        "plt.show()"
      ],
      "metadata": {
        "id": "t6GMdE67YoAp"
      },
      "execution_count": null,
      "outputs": []
    },
    {
      "cell_type": "code",
      "source": [
        "# Chart - 3 visualization code\n",
        "data['Category'].value_counts().plot(kind='bar', figsize=(12, 6))  # Create a bar chart of app categories and their counts\n",
        "plt.title('Top App Categories')  # Set the title of the chart\n",
        "plt.xlabel('Category')  # Set the x-axis label to \"Category\"\n",
        "plt.ylabel('Count')  # Set the y-axis label to \"Count\"\n",
        "plt.show()  # Display the chart\n"
      ],
      "metadata": {
        "id": "Kzrf99w0aaO4"
      },
      "execution_count": null,
      "outputs": []
    },
    {
      "cell_type": "markdown",
      "source": [
        "##### 1. Why did you pick the specific chart?"
      ],
      "metadata": {
        "id": "fge-S5ZAYoAp"
      }
    },
    {
      "cell_type": "markdown",
      "source": [
        "Answer Here."
      ],
      "metadata": {
        "id": "5dBItgRVYoAp"
      }
    },
    {
      "cell_type": "markdown",
      "source": [
        "##### 2. What is/are the insight(s) found from the chart?"
      ],
      "metadata": {
        "id": "85gYPyotYoAp"
      }
    },
    {
      "cell_type": "markdown",
      "source": [
        "\n",
        "* The \"Family\" category has the highest number of apps, suggesting a focus on family-oriented content and activities.\n",
        "\n",
        "* \"Game\" is the second most common category, highlighting the high demand for entertainment and gaming apps.\n",
        "\n",
        "* Categories like \"Tools\" and \"Medical\" show significant app counts, indicating a reliance on apps for practical and health-related purposes.\n",
        "\n",
        "* Medium-level categories such as \"Business\" and \"Productivity\" reflect steady usage for professional and organizational needs.\n",
        "\n",
        "*Categories like \"Comics\" and \"Beauty\" have the lowest app counts, potentially representing untapped market opportunities.\n",
        "\n"
      ],
      "metadata": {
        "id": "4jstXR6OYoAp"
      }
    },
    {
      "cell_type": "markdown",
      "source": [
        "##### 3. Will the gained insights help creating a positive business impact?\n",
        "\n",
        "Yes\n",
        "\n",
        "Are there any insights that lead to negative growth? Justify with specific reason.\n",
        "\n",
        "Over-specialization in low-demand categories, like \"Beauty,\" could limit the audience reach, leading to stagnation or negative growth for apps targeting very specific user bases."
      ],
      "metadata": {
        "id": "RoGjAbkUYoAp"
      }
    },
    {
      "cell_type": "markdown",
      "source": [
        "Answer Here"
      ],
      "metadata": {
        "id": "zfJ8IqMcYoAp"
      }
    },
    {
      "cell_type": "markdown",
      "source": [
        "#### Chart - 4"
      ],
      "metadata": {
        "id": "4Of9eVA-YrdM"
      }
    },
    {
      "cell_type": "code",
      "source": [
        "# Chart - 4 visualization code\n",
        "data['Type'].value_counts().plot(kind='pie', autopct='%1.1f%%', figsize=(6, 6))\n",
        "plt.title('Free vs Paid Apps')\n",
        "plt.ylabel('')\n",
        "plt.show()"
      ],
      "metadata": {
        "id": "irlUoxc8YrdO"
      },
      "execution_count": null,
      "outputs": []
    },
    {
      "cell_type": "code",
      "source": [
        "# Chart - 4 visualization code\n",
        "data['Type'].value_counts().plot(kind='pie', autopct='%1.1f%%', figsize=(6, 6))  # Create a pie chart of app types and their percentages\n",
        "plt.title('Free vs Paid Apps')  # Set the title of the chart\n",
        "plt.ylabel('')  # Remove the y-axis label\n",
        "plt.show()  # Display the chart"
      ],
      "metadata": {
        "id": "K4Yx15HLakvJ"
      },
      "execution_count": null,
      "outputs": []
    },
    {
      "cell_type": "markdown",
      "source": [
        "##### 1. Why did you pick the specific chart?"
      ],
      "metadata": {
        "id": "iky9q4vBYrdO"
      }
    },
    {
      "cell_type": "markdown",
      "source": [
        "Helps analyze how apps generate revenue, whether through direct purchases  or alternative methods like ads, in-app purchases, and subscriptions ."
      ],
      "metadata": {
        "id": "aJRCwT6DYrdO"
      }
    },
    {
      "cell_type": "markdown",
      "source": [
        "##### 2. What is/are the insight(s) found from the chart?"
      ],
      "metadata": {
        "id": "F6T5p64dYrdO"
      }
    },
    {
      "cell_type": "markdown",
      "source": [
        "*     Majority of Apps are Free (92.6%)\n",
        "\n",
        "*     The Play Store is dominated by free apps, showing that most developers rely on ads, in-app purchases, or freemium models for monetization.\n",
        "\n",
        "*     Paid Apps are a Small Minority (7.4%)\n",
        "•\tOnly a small percentage of apps are paid, suggesting that users prefer free apps or are hesitant to pay upfront for apps without trying them first.\n",
        "\n",
        "*   The low percentage of paid apps indicates limited demand, meaning developers who charge upfront may face difficulties in attracting new users compared to free apps.\n",
        "\n",
        "*    Market Trend Favors Free Apps with Monetization Strategies\n",
        "\n"
      ],
      "metadata": {
        "id": "Xx8WAJvtYrdO"
      }
    },
    {
      "cell_type": "markdown",
      "source": [
        "##### 3. Will the gained insights help creating a positive business impact?\n",
        "\n",
        "Yes\n",
        "\n",
        "Are there any insights that lead to negative growth? Justify with specific reason.\n",
        "\n",
        "Low Willingness to Pay for Apps is Driving Revenue Decline\n",
        "\n",
        "Justification: With users expecting apps to be free, even high-quality paid apps struggle to achieve sustainable growth\n"
      ],
      "metadata": {
        "id": "y-Ehk30pYrdP"
      }
    },
    {
      "cell_type": "markdown",
      "source": [
        "Answer Here"
      ],
      "metadata": {
        "id": "jLNxxz7MYrdP"
      }
    },
    {
      "cell_type": "markdown",
      "source": [
        "#### Chart - 5"
      ],
      "metadata": {
        "id": "bamQiAODYuh1"
      }
    },
    {
      "cell_type": "code",
      "source": [
        "# Chart - 5 visualization code\n",
        "paid_apps = data[data['Price'] > 0]\n",
        "sns.histplot(paid_apps['Price'], bins=20, kde=True)\n",
        "plt.title('Price Distribution of Paid Apps')\n",
        "plt.xlabel('Price ($)')\n",
        "plt.ylabel('Frequency')\n",
        "plt.show()"
      ],
      "metadata": {
        "id": "TIJwrbroYuh3"
      },
      "execution_count": null,
      "outputs": []
    },
    {
      "cell_type": "code",
      "source": [
        "# Chart - 5 visualization code\n",
        "paid_apps = data[data['Price'] > 0] # Filter data to include only paid apps (Price > 0)\n",
        "sns.histplot(paid_apps['Price'], bins=20, kde=True) # Create a histogram of paid app prices with 20 bins and KDE\n",
        "plt.title('Price Distribution of Paid Apps') # Set the title of the chart\n",
        "plt.xlabel('Price ($)') # Set the x-axis label\n",
        "plt.ylabel('Frequency') # Set the y-axis label\n",
        "plt.show() # Display the chart"
      ],
      "metadata": {
        "id": "Ke9p9sroaxjp"
      },
      "execution_count": null,
      "outputs": []
    },
    {
      "cell_type": "markdown",
      "source": [
        "##### 1. Why did you pick the specific chart?"
      ],
      "metadata": {
        "id": "QHF8YVU7Yuh3"
      }
    },
    {
      "cell_type": "markdown",
      "source": [
        "o\tIt helps in understanding if high-priced apps have any significant sales share or if they suffer from negative growth due to user reluctance.\n",
        "5.\n",
        "o\tApp developers can use this information to decide whether to launch paid apps, adopt freemium models, or adjust pricing for better market fit.\n"
      ],
      "metadata": {
        "id": "dcxuIMRPYuh3"
      }
    },
    {
      "cell_type": "markdown",
      "source": [
        "##### 2. What is/are the insight(s) found from the chart?"
      ],
      "metadata": {
        "id": "GwzvFGzlYuh3"
      }
    },
    {
      "cell_type": "markdown",
      "source": [
        "\n",
        "* \tThe majority of paid apps are priced between 0 and  10, indicating that affordable pricing is the dominant trend in the Play Store.\n",
        "\n",
        "* The distribution is right-skewed, meaning a few apps are priced significantly higher. However, these expensive apps are rare.\n",
        "\n",
        "* Apps priced above 100 are extremely rare, suggesting that high-priced apps have limited demand and lower frequency.\n",
        "\n",
        "* Since most apps fall into the lower price range, it implies that developers focus on affordability to attract more users\n",
        "\n",
        "* \tThe sharp drop in frequency as price increases suggests that users are reluctant to buy high-priced apps, making it challenging for premium apps to gain traction.\n",
        "\n",
        "\n",
        "  \n",
        "\n"
      ],
      "metadata": {
        "id": "uyqkiB8YYuh3"
      }
    },
    {
      "cell_type": "markdown",
      "source": [
        "##### 3. Will the gained insights help creating a positive business impact?\n",
        "\n",
        "Yes\n",
        "Are there any insights that lead to negative growth? Justify with specific reason.\n",
        "\n",
        "•\tThe steep decline in app frequency as price increases suggests that expensive apps do not perform well in terms of sales.\n",
        "\n"
      ],
      "metadata": {
        "id": "qYpmQ266Yuh3"
      }
    },
    {
      "cell_type": "markdown",
      "source": [
        "Answer Here"
      ],
      "metadata": {
        "id": "_WtzZ_hCYuh4"
      }
    },
    {
      "cell_type": "markdown",
      "source": [
        "##### 3. Will the gained insights help creating a positive business impact?\n",
        "\n",
        "Yes\n",
        "Are there any insights that lead to negative growth? Justify with specific reason.\n",
        "\n",
        "•\tThe steep decline in app frequency as price increases suggests that expensive apps do not perform well in terms of sales.\n",
        "\n"
      ],
      "metadata": {
        "id": "TqHceE36QSjO"
      }
    },
    {
      "cell_type": "markdown",
      "source": [
        "Answer Here"
      ],
      "metadata": {
        "id": "X9VNqKPUQSjO"
      }
    },
    {
      "cell_type": "markdown",
      "source": [
        "#### Chart - 6"
      ],
      "metadata": {
        "id": "OH-pJp9IphqM"
      }
    },
    {
      "cell_type": "code",
      "source": [
        "# Chart - 6 visualization code\n",
        "sns.histplot(data['Installs'], bins=20, kde=False)\n",
        "plt.title('Distribution of Installs')\n",
        "plt.xlabel('Installs')\n",
        "plt.ylabel('Frequency')\n",
        "plt.show()"
      ],
      "metadata": {
        "id": "kuRf4wtuphqN"
      },
      "execution_count": null,
      "outputs": []
    },
    {
      "cell_type": "code",
      "source": [
        "# Chart - 6 visualization code\n",
        "sns.histplot(data['Installs'], bins=20, kde=False) # Creates a histogram to visualize the distribution of app installs.\n",
        "plt.title('Distribution of Installs') # Sets the title of the chart to \"Distribution of Installs\".\n",
        "plt.xlabel('Installs') # Sets the label for the x-axis to \"Installs\".\n",
        "plt.ylabel('Frequency') # Sets the label for the y-axis to \"Frequency\".\n",
        "plt.show() # Displays the created chart."
      ],
      "metadata": {
        "id": "Fp1dBUIGa8Om"
      },
      "execution_count": null,
      "outputs": []
    },
    {
      "cell_type": "markdown",
      "source": [
        "##### 1. Why did you pick the specific chart?"
      ],
      "metadata": {
        "id": "bbFf2-_FphqN"
      }
    },
    {
      "cell_type": "markdown",
      "source": [
        "helps identify how app installs are distributed/whether most apps have low, moderate, or high install counts"
      ],
      "metadata": {
        "id": "loh7H2nzphqN"
      }
    },
    {
      "cell_type": "markdown",
      "source": [
        "##### 2. What is/are the insight(s) found from the chart?"
      ],
      "metadata": {
        "id": "_ouA3fa0phqN"
      }
    },
    {
      "cell_type": "markdown",
      "source": [
        "* \tThe majority of apps have very low install counts, indicating that only a small fraction of apps achieve high downloads.\n",
        "\n",
        "* Few High-Install Apps Dominate\n",
        "\n",
        "*\tA handful of apps have extremely high install numbers , suggesting a winner-takes all market where a few dominant apps capture most of the users.\n",
        "\n",
        "*  Large Number of Low-Install Apps\n",
        "\n",
        "\n",
        "\n",
        "\n"
      ],
      "metadata": {
        "id": "VECbqPI7phqN"
      }
    },
    {
      "cell_type": "markdown",
      "source": [
        "##### 3. Will the gained insights help creating a positive business impact?\n",
        "\n",
        "Yes\n",
        "\n",
        "Are there any insights that lead to negative growth? Justify with specific reason.\n",
        "\n",
        "The chart shows that most apps have very few installs, meaning that a large portion of apps fail to gain traction.\n",
        "•\tReason: The app market is highly saturated, making it hard for new apps to compete. Without strong marketing,\n",
        "\n",
        "\n"
      ],
      "metadata": {
        "id": "Seke61FWphqN"
      }
    },
    {
      "cell_type": "markdown",
      "source": [
        "Answer Here"
      ],
      "metadata": {
        "id": "DW4_bGpfphqN"
      }
    },
    {
      "cell_type": "markdown",
      "source": [
        "#### Chart - 7"
      ],
      "metadata": {
        "id": "PIIx-8_IphqN"
      }
    },
    {
      "cell_type": "code",
      "source": [
        "# Chart - 7 visualization code\n",
        "sns.scatterplot(x='Size', y='Rating', data=data)\n",
        "plt.title('Size vs Rating')\n",
        "plt.xlabel('Size (MB)')\n",
        "plt.ylabel('Rating')\n",
        "plt.show()"
      ],
      "metadata": {
        "id": "lqAIGUfyphqO"
      },
      "execution_count": null,
      "outputs": []
    },
    {
      "cell_type": "code",
      "source": [
        "# Chart - 7 visualization code\n",
        "sns.scatterplot(x='Size', y='Rating', data=data) # Creates a scatter plot to visualize the relationship between app size and rating.\n",
        "plt.title('Size vs Rating') # Sets the title of the chart to \"Size vs Rating\".\n",
        "plt.xlabel('Size (MB)') # Sets the label for the x-axis to \"Size (MB)\", indicating the app size in megabytes.\n",
        "plt.ylabel('Rating') # Sets the label for the y-axis to \"Rating\", indicating the app's rating.\n",
        "plt.show() # Displays the created scatter plot."
      ],
      "metadata": {
        "id": "o3zaApcfbfal"
      },
      "execution_count": null,
      "outputs": []
    },
    {
      "cell_type": "markdown",
      "source": [
        "##### 1. Why did you pick the specific chart?"
      ],
      "metadata": {
        "id": "t27r6nlMphqO"
      }
    },
    {
      "cell_type": "markdown",
      "source": [
        "This chart helps analyze whether app size influences user ratings, providing insights into user preferences for lightweight or bigapps with a lot of features."
      ],
      "metadata": {
        "id": "iv6ro40sphqO"
      }
    },
    {
      "cell_type": "markdown",
      "source": [
        "##### 2. What is/are the insight(s) found from the chart?"
      ],
      "metadata": {
        "id": "r2jJGEOYphqO"
      }
    },
    {
      "cell_type": "markdown",
      "source": [
        "\n",
        "\n",
        "*  The chart shows a scattered pattern, suggesting that app size does not strongly influence its rating.\n",
        "\n",
        "*  Most apps fall within the 5 MB to 50 MB range,\n",
        "\n",
        "*  Ratings areConcentrated Around 4.0 to 4.5\n",
        "\n",
        "*  Some larger apps have relatively low ratings. could bve due to the large size of the app\n",
        "\n",
        "\n",
        "\n",
        "\n",
        "\n",
        "\n",
        "\n",
        "\n",
        "\n"
      ],
      "metadata": {
        "id": "Po6ZPi4hphqO"
      }
    },
    {
      "cell_type": "markdown",
      "source": [
        "##### 3. Will the gained insights help creating a positive business impact?\n",
        "\n",
        "Yes\n",
        "\n",
        "Are there any insights that lead to negative growth? Justify with specific reason.\n",
        "\n",
        "Apps larger than 70 MB tend to have lower ratings (<3). Users may avoid such apps due to higher storage consumption, leading to negative growth in downloads and engagement."
      ],
      "metadata": {
        "id": "b0JNsNcRphqO"
      }
    },
    {
      "cell_type": "markdown",
      "source": [
        "#### Chart - 8"
      ],
      "metadata": {
        "id": "BZR9WyysphqO"
      }
    },
    {
      "cell_type": "code",
      "source": [
        "# Chart - 8 visualization code\n",
        "data['Content Rating'].value_counts().plot(kind='bar')\n",
        "plt.title('Content Rating Distribution')\n",
        "plt.xlabel('Content Rating')\n",
        "plt.ylabel('Count')\n",
        "plt.show()"
      ],
      "metadata": {
        "id": "TdPTWpAVphqO"
      },
      "execution_count": null,
      "outputs": []
    },
    {
      "cell_type": "code",
      "source": [
        "# Chart - 8 visualization code\n",
        "data['Content Rating'].value_counts().plot(kind='bar') # Creates a bar chart to display the distribution of content ratings.\n",
        "plt.title('Content Rating Distribution') # Sets the title of the chart to \"Content Rating Distribution\".\n",
        "plt.xlabel('Content Rating') # Sets the label for the x-axis to \"Content Rating\".\n",
        "plt.ylabel('Count') # Sets the label for the y-axis to \"Count\", representing the number of apps for each content rating.\n",
        "plt.show() # Displays the created bar chart."
      ],
      "metadata": {
        "id": "7VkKfKngbzUd"
      },
      "execution_count": null,
      "outputs": []
    },
    {
      "cell_type": "markdown",
      "source": [
        "##### 1. Why did you pick the specific chart?"
      ],
      "metadata": {
        "id": "jj7wYXLtphqO"
      }
    },
    {
      "cell_type": "markdown",
      "source": [
        "This chart helps identify which content ratings are most prevalent in the app store. It gives insights into the target demographics, such as general audiences versus specific age groups.\n",
        "\n",
        "Market Segmentation Analysis:"
      ],
      "metadata": {
        "id": "Ob8u6rCTphqO"
      }
    },
    {
      "cell_type": "markdown",
      "source": [
        "##### 2. What is/are the insight(s) found from the chart?"
      ],
      "metadata": {
        "id": "eZrbJ2SmphqO"
      }
    },
    {
      "cell_type": "markdown",
      "source": [
        "\n",
        "\n",
        "\n",
        "\n",
        "\n",
        "*  Majority of apps are rated \"Everyone,\" indicating a focus on general-purpose apps catering to all age groups.\n",
        "\n",
        "\n",
        "*  Apps rated \"Teen\" and \"Mature 17+\" form a significantly smaller portion, suggesting fewer apps target  age-restricted audiences.\n",
        "\n",
        "*  Very few apps are designed exclusively for adults\n",
        "\n",
        "\n",
        "*  The overwhelming dominance of \"Everyone\" suggests developers prioritize inclusivity and accessibility in their app design.\n",
        "\n",
        "*   \n",
        "\n"
      ],
      "metadata": {
        "id": "mZtgC_hjphqO"
      }
    },
    {
      "cell_type": "markdown",
      "source": [
        "##### 3. Will the gained insights help creating a positive business impact?\n",
        "\n",
        "Yes\n",
        "\n",
        "Are there any insights that lead to negative growth? Justify with specific reason.\n",
        "\n",
        "The dominance of apps rated \"Everyone\"  indicates market saturation in this category. New apps targeting this rating might struggle to gain visibility or differentiate themselves, leading to slower growth."
      ],
      "metadata": {
        "id": "rFu4xreNphqO"
      }
    },
    {
      "cell_type": "markdown",
      "source": [
        "Answer Here"
      ],
      "metadata": {
        "id": "ey_0qi68phqO"
      }
    },
    {
      "cell_type": "markdown",
      "source": [
        "#### Chart - 9"
      ],
      "metadata": {
        "id": "YJ55k-q6phqO"
      }
    },
    {
      "cell_type": "code",
      "source": [
        "# Chart - 9 visualization code\n",
        "data['Last Updated'] = pd.to_datetime(data['Last Updated'])\n",
        "data['Year'] = data['Last Updated'].dt.year\n",
        "data['Year'].value_counts().sort_index().plot(kind='line')\n",
        "plt.title('Number of Apps Updated Over Time')\n",
        "plt.xlabel('Year')\n",
        "plt.ylabel('Count')\n",
        "plt.show()"
      ],
      "metadata": {
        "id": "B2aS4O1ophqO"
      },
      "execution_count": null,
      "outputs": []
    },
    {
      "cell_type": "code",
      "source": [
        "# Chart - 9 visualization code\n",
        "data['Last Updated'] = pd.to_datetime(data['Last Updated']) # Convert 'Last Updated' column to datetime objects\n",
        "data['Year'] = data['Last Updated'].dt.year # Extract the year from the 'Last Updated' column and create a new 'Year' column\n",
        "data['Year'].value_counts().sort_index().plot(kind='line') # Create a line chart showing the number of apps updated each year\n",
        "plt.title('Number of Apps Updated Over Time') # Set the title of the chart\n",
        "plt.xlabel('Year') # Set the x-axis label to 'Year'\n",
        "plt.ylabel('Count') # Set the y-axis label to 'Count'\n",
        "plt.show() # Display the chart"
      ],
      "metadata": {
        "id": "dZ2vEP5bb9Jx"
      },
      "execution_count": null,
      "outputs": []
    },
    {
      "cell_type": "markdown",
      "source": [
        "##### 1. Why did you pick the specific chart?"
      ],
      "metadata": {
        "id": "gCFgpxoyphqP"
      }
    },
    {
      "cell_type": "markdown",
      "source": [
        "The increase in updates over time reflects the overall growth of the apps"
      ],
      "metadata": {
        "id": "TVxDimi2phqP"
      }
    },
    {
      "cell_type": "markdown",
      "source": [
        "##### 2. What is/are the insight(s) found from the chart?"
      ],
      "metadata": {
        "id": "OVtJsKN_phqQ"
      }
    },
    {
      "cell_type": "markdown",
      "source": [
        "\n",
        "*  There is a sharp increase in the number of apps updated after 2016, peaking in 2018\n",
        "\n",
        "*  The rapid rise in updates over time suggests that the app market has matured, with developers focusing on improving existing apps rather than creating entirely new ones.\n",
        "\n",
        "*  The significant growth in updates indicates increasing competition and heightened user expectations for app maintenance\n",
        "\n",
        "\n",
        "\n",
        "\n",
        "\n",
        "\n",
        "\n",
        "\n",
        "\n",
        "\n"
      ],
      "metadata": {
        "id": "ngGi97qjphqQ"
      }
    },
    {
      "cell_type": "markdown",
      "source": [
        "##### 3. Will the gained insights help creating a positive business impact?\n",
        "Yes\n",
        "\n",
        "Are there any insights that lead to negative growth? Justify with specific reason.\n",
        "\n",
        "With the spike in updates, competition intensifies. Apps that fail to meet user expectations in updates  might experience a decline in downloads and user retention.\n",
        "\n"
      ],
      "metadata": {
        "id": "lssrdh5qphqQ"
      }
    },
    {
      "cell_type": "markdown",
      "source": [
        "Answer Here"
      ],
      "metadata": {
        "id": "tBpY5ekJphqQ"
      }
    },
    {
      "cell_type": "markdown",
      "source": [
        "#### Chart - 10"
      ],
      "metadata": {
        "id": "U2RJ9gkRphqQ"
      }
    },
    {
      "cell_type": "code",
      "source": [
        "# Chart - 10 visualization code\n",
        "data['Genres'].value_counts().head(10).plot(kind='barh', figsize=(8, 6))\n",
        "plt.title('Top 10 Genres')\n",
        "plt.xlabel('Count')\n",
        "plt.ylabel('Genre')\n",
        "plt.show()"
      ],
      "metadata": {
        "id": "GM7a4YP4phqQ"
      },
      "execution_count": null,
      "outputs": []
    },
    {
      "cell_type": "code",
      "source": [
        "# Chart - 10 visualization code\n",
        "data['Genres'].value_counts().head(10).plot(kind='barh', figsize=(8, 6)) # Create a horizontal bar chart of the top 10 genres\n",
        "plt.title('Top 10 Genres') # Set the title of the chart\n",
        "plt.xlabel('Count') # Set the x-axis label to 'Count'\n",
        "plt.ylabel('Genre') # Set the y-axis label to 'Genre'\n",
        "plt.show() # Display the chart"
      ],
      "metadata": {
        "id": "Q45Tr-kYcWf8"
      },
      "execution_count": null,
      "outputs": []
    },
    {
      "cell_type": "markdown",
      "source": [
        "##### 1. Why did you pick the specific chart?\n",
        "            \n"
      ],
      "metadata": {
        "id": "1M8mcRywphqQ"
      }
    },
    {
      "cell_type": "markdown",
      "source": [
        "it provides a clear understanding of genre distribution, helping businesses and developers make data driven decisions for app development and marketing strategies."
      ],
      "metadata": {
        "id": "8agQvks0phqQ"
      }
    },
    {
      "cell_type": "markdown",
      "source": [
        "##### 2. What is/are the insight(s) found from the chart?"
      ],
      "metadata": {
        "id": "8ATYQLlmvx5A"
      }
    },
    {
      "cell_type": "markdown",
      "source": [],
      "metadata": {
        "id": "nhEHPy2Gvx5B"
      }
    },
    {
      "cell_type": "markdown",
      "source": [
        "\n",
        "\n",
        "\n",
        "\n",
        "*   \n",
        "  The Tools genre is the most prevalent, with the highest number of apps among all genres in the dataset.This suggests a strong focus on utility apps\n",
        "\n",
        "\n",
        "*   Entertainment and Education rank second and third in terms of the number of apps.\n",
        "Implication: These genres are well-represented, indicating high user demand. For developers, these are lucrative categories to invest in, especially if they address certain new and interesting ways to innovate\n",
        "\n",
        "\n",
        "* Medical Apps Show Growth Potential. A strong presence indicates rising interest in health-related solutions.\n",
        "\n",
        "\n",
        "* Lifestyle is Underrepresente. This genre offers opportunities due to lower competition but may require more innovative and engaging.\n",
        "\n",
        "\n",
        "* Moderate Potential in Sports and Personalization. These genres show balanced representation, leaving room for innovation.\n",
        "\n",
        "\n",
        "\n",
        "\n",
        "\n"
      ],
      "metadata": {
        "id": "tgIPom80phqQ"
      }
    },
    {
      "cell_type": "markdown",
      "source": [
        "##### 3. Will the gained insights help creating a positive business impact?\n",
        "\n",
        "Yes\n",
        "Are there any insights that lead to negative growth? Justify with specific reason.\n",
        "\n",
        "Over-Reliance on Tools\n",
        "\n",
        "Reason: The Tools genre dominates the chart, suggesting potential saturation. Overcrowding could limit new app growth or cause existing apps to lose visibility."
      ],
      "metadata": {
        "id": "JMzcOPDDphqR"
      }
    },
    {
      "cell_type": "markdown",
      "source": [
        "Answer Here"
      ],
      "metadata": {
        "id": "R4Ka1PC2phqR"
      }
    },
    {
      "cell_type": "markdown",
      "source": [
        "#### Chart - 11"
      ],
      "metadata": {
        "id": "x-EpHcCOp1ci"
      }
    },
    {
      "cell_type": "code",
      "source": [
        "# Chart - 11 visualization code\n",
        "top_reviews = data.nlargest(10, 'Reviews')\n",
        "sns.barplot(x='Reviews', y='App', data=top_reviews)\n",
        "plt.title('Top 10 Apps by Reviews')\n",
        "plt.xlabel('Reviews')\n",
        "plt.ylabel('App')\n",
        "plt.show()"
      ],
      "metadata": {
        "id": "mAQTIvtqp1cj"
      },
      "execution_count": null,
      "outputs": []
    },
    {
      "cell_type": "code",
      "source": [
        "# Chart - 11 visualization code\n",
        "top_reviews = data.nlargest(10, 'Reviews') # Get the top 10 apps with the most reviews\n",
        "sns.barplot(x='Reviews', y='App', data=top_reviews) # Create a bar plot of reviews vs app names for the top 10\n",
        "plt.title('Top 10 Apps by Reviews') # Set the title of the chart\n",
        "plt.xlabel('Reviews') # Set the x-axis label to \"Reviews\"\n",
        "plt.ylabel('App') # Set the y-axis label to \"App\"\n",
        "plt.show() # Display the chart"
      ],
      "metadata": {
        "id": "JANfTw5bcchG"
      },
      "execution_count": null,
      "outputs": []
    },
    {
      "cell_type": "markdown",
      "source": [
        "##### 1. Why did you pick the specific chart?"
      ],
      "metadata": {
        "id": "X_VqEhTip1ck"
      }
    },
    {
      "cell_type": "markdown",
      "source": [
        "highlights which apps receive the most user engagement through reviews, helping identify leading apps in the market."
      ],
      "metadata": {
        "id": "-vsMzt_np1ck"
      }
    },
    {
      "cell_type": "markdown",
      "source": [
        "##### 2. What is/are the insight(s) found from the chart?"
      ],
      "metadata": {
        "id": "8zGJKyg5p1ck"
      }
    },
    {
      "cell_type": "markdown",
      "source": [
        "\n",
        "\n",
        "*  Facebookhas the highest number of reviews, indicating strong user engagement and market penetration.\n",
        "\n",
        "*  WhatsApp Messenger & Instagram follow closely, also owned by Meta, show that the company dominates user engagement across social and communication categories.\n",
        "\n",
        "*  Despite being a communication app, Messenger has fewer reviews compared to Facebook and WhatsApp.\n",
        "\n",
        "*  The top-reviewed apps belong to social media and messaging, highlighting their critical role in our daily life.\n",
        "\n",
        "*  The dominance of Meta-owned apps shows a monopoly effect, reducing diversity\n",
        "   \n"
      ],
      "metadata": {
        "id": "ZYdMsrqVp1ck"
      }
    },
    {
      "cell_type": "markdown",
      "source": [
        "##### 3. Will the gained insights help creating a positive business impact?\n",
        "\n",
        "Yes\n",
        "\n",
        "Are there any insights that lead to negative growth? Justify with specific reason.\n",
        "\n",
        "Lack of competition could lead to stagnation in innovation, causing users to lose interest over time.\n"
      ],
      "metadata": {
        "id": "PVzmfK_Ep1ck"
      }
    },
    {
      "cell_type": "markdown",
      "source": [
        "Answer Here"
      ],
      "metadata": {
        "id": "druuKYZpp1ck"
      }
    },
    {
      "cell_type": "markdown",
      "source": [
        "#### Chart - 12"
      ],
      "metadata": {
        "id": "n3dbpmDWp1ck"
      }
    },
    {
      "cell_type": "code",
      "source": [
        "# Chart - 12 visualization code\n",
        "sns.scatterplot(x='Installs', y='Rating', data=data)\n",
        "plt.title('Rating vs Installs')\n",
        "plt.xlabel('Installs')\n",
        "plt.ylabel('Rating')\n",
        "plt.show()"
      ],
      "metadata": {
        "id": "bwevp1tKp1ck"
      },
      "execution_count": null,
      "outputs": []
    },
    {
      "cell_type": "code",
      "source": [
        "# Chart - 12 visualization code\n",
        "sns.scatterplot(x='Installs', y='Rating', data=data) # Create a scatter plot to visualize the relationship between Installs and Rating\n",
        "plt.title('Rating vs Installs') # Set the title of the chart\n",
        "plt.xlabel('Installs') # Set the x-axis label\n",
        "plt.ylabel('Rating') # Set the y-axis label\n",
        "plt.show() # Display the chart"
      ],
      "metadata": {
        "id": "Oix2pnQqcnVS"
      },
      "execution_count": null,
      "outputs": []
    },
    {
      "cell_type": "markdown",
      "source": [
        "##### 1. Why did you pick the specific chart?"
      ],
      "metadata": {
        "id": "ylSl6qgtp1ck"
      }
    },
    {
      "cell_type": "markdown",
      "source": [
        "Helps identify whether higher-rated apps tend to have more installs.This can reveal if users prefer highly-rated apps or if installs are independent of ratings.\n"
      ],
      "metadata": {
        "id": "m2xqNkiQp1ck"
      }
    },
    {
      "cell_type": "markdown",
      "source": [
        "##### 2. What is/are the insight(s) found from the chart?"
      ],
      "metadata": {
        "id": "ZWILFDl5p1ck"
      }
    },
    {
      "cell_type": "markdown",
      "source": [
        "*  The chart does not show a strong correlation between installs and ratings, meaning high installs don't necessarily lead to higher ratings.\n",
        "\n",
        "*  Some apps with lower ratings still have millions or billions of installs, indicating user reliance despite poor feedback.\n",
        "\n",
        "*  The majority of apps have low installs and varying ratings.\n",
        "\n",
        "*  A small number of apps have extremely high installs, reinforcing the idea that a few popular apps capture most of the user base.\n",
        "\n"
      ],
      "metadata": {
        "id": "x-lUsV2mp1ck"
      }
    },
    {
      "cell_type": "markdown",
      "source": [
        "##### 3. Will the gained insights help creating a positive business impact?\n",
        "\n",
        "Yes\n",
        "\n",
        "Are there any insights that lead to negative growth? Justify with specific reason.\n",
        "\n",
        "•\tMany apps with low ratings still have significant installs, but over time, users may abandon poorly rated apps,"
      ],
      "metadata": {
        "id": "M7G43BXep1ck"
      }
    },
    {
      "cell_type": "markdown",
      "source": [
        "#### Chart - 13"
      ],
      "metadata": {
        "id": "Ag9LCva-p1cl"
      }
    },
    {
      "cell_type": "code",
      "source": [
        "# Chart - 13 visualization code\n",
        "avg_rating = data.groupby('Content Rating')['Rating'].mean().reset_index()\n",
        "sns.barplot(x='Content Rating', y='Rating', data=avg_rating)\n",
        "plt.title('Average Rating by Content Rating')\n",
        "plt.show()"
      ],
      "metadata": {
        "id": "EUfxeq9-p1cl"
      },
      "execution_count": null,
      "outputs": []
    },
    {
      "cell_type": "code",
      "source": [
        "# Chart - 13 visualization code\n",
        "avg_rating = data.groupby('Content Rating')['Rating'].mean().reset_index() # Calculate the average rating for each content rating\n",
        "sns.barplot(x='Content Rating', y='Rating', data=avg_rating) # Create a bar plot to visualize the average rating by content rating\n",
        "plt.title('Average Rating by Content Rating') # Set the title of the chart\n",
        "plt.show() # Display the chart"
      ],
      "metadata": {
        "id": "DuIwdFD8cy5G"
      },
      "execution_count": null,
      "outputs": []
    },
    {
      "cell_type": "markdown",
      "source": [
        "##### 1. Why did you pick the specific chart?"
      ],
      "metadata": {
        "id": "E6MkPsBcp1cl"
      }
    },
    {
      "cell_type": "markdown",
      "source": [
        "Answer Here."
      ],
      "metadata": {
        "id": "V22bRsFWp1cl"
      }
    },
    {
      "cell_type": "markdown",
      "source": [
        "##### 2. What is/are the insight(s) found from the chart?"
      ],
      "metadata": {
        "id": "2cELzS2fp1cl"
      }
    },
    {
      "cell_type": "markdown",
      "source": [
        "*  \"Adults Only 18+,\" \"Everyone,\" \"Everyone 10+,\" \"Mature 17+,\" and \"Teen\" categories show close ratings, indicating user satisfaction is independent of age restrictions.\n",
        "\n",
        "*  Users across all age groups seem to rate apps similarly, suggesting that content restrictions do not strongly influence perceived app quality.\n",
        "\n",
        "*  If apps in categories like \"Mature 17+\" or \"Teen\" do not receive high ratings consistently, they may struggle to attract new users.\n",
        "\n",
        "\n",
        "\n"
      ],
      "metadata": {
        "id": "ozQPc2_Ip1cl"
      }
    },
    {
      "cell_type": "markdown",
      "source": [
        "##### 3. Will the gained insights help creating a positive business impact?\n",
        "\n",
        "Maybe\n",
        "Are there any insights that lead to negative growth? Justify with specific reason.\n",
        "i don't think are much of negative insights in this chart"
      ],
      "metadata": {
        "id": "3MPXvC8up1cl"
      }
    },
    {
      "cell_type": "markdown",
      "source": [
        "#### Chart - 14"
      ],
      "metadata": {
        "id": "PlflzBeIds6S"
      }
    },
    {
      "cell_type": "code",
      "source": [
        "# Chart -14 visualization code\n",
        "top_app_names = data['App'].value_counts().head(10)\n",
        "top_app_names.plot(kind='barh', figsize=(8, 6))\n",
        "plt.title('Top 10 Most Common App Names')\n",
        "plt.xlabel('Count')\n",
        "plt.ylabel('App Name')\n",
        "plt.show()"
      ],
      "metadata": {
        "id": "5v43MbvJds6T"
      },
      "execution_count": null,
      "outputs": []
    },
    {
      "cell_type": "code",
      "source": [
        "# Chart - 14 visualization code\n",
        "top_app_names = data['App'].value_counts().head(10) # Get the top 10 most frequent app names\n",
        "top_app_names.plot(kind='barh', figsize=(8, 6)) # Create a horizontal bar plot to visualize the top 10 app names\n",
        "plt.title('Top 10 Most Common App Names') # Set the title of the chart\n",
        "plt.xlabel('Count') # Set the x-axis label to 'Count'\n",
        "plt.ylabel('App Name') # Set the y-axis label to 'App Name'\n",
        "plt.show() # Display the chart"
      ],
      "metadata": {
        "id": "j70QL6gkd6by"
      },
      "execution_count": null,
      "outputs": []
    },
    {
      "cell_type": "markdown",
      "source": [
        "##### 1. Why did you pick the specific chart?"
      ],
      "metadata": {
        "id": "b65XnhZeds6T"
      }
    },
    {
      "cell_type": "markdown",
      "source": [
        "##### 2. What is/are the insight(s) found from the chart?"
      ],
      "metadata": {
        "id": "ujNeQFiUds6U"
      }
    },
    {
      "cell_type": "markdown",
      "source": [
        "This chart highlights the naming trends of apps, showcasing the most frequently used app titles. It identifies repetitive naming conventions or popular themes.\n"
      ],
      "metadata": {
        "id": "DqJb4ilsds6U"
      }
    },
    {
      "cell_type": "markdown",
      "source": [
        "\n",
        "*  OBLOX Dominance ROBLOX is the most frequently mentioned app, showcasing its popularity and strong presence in the market.\n",
        "\n",
        "*  Apps like Bleacher Report, CBS Sports, and ESPN highlight the significant demand for sports-related content.\n",
        "\n",
        "*  Games like Candy Crush Saga, 8 Ball Pool, and Zombie Catchers demonstrate the ongoing user engagement with casual gaming apps.\n",
        "\n",
        "*  Duolingo stands out as the only educational app, reflecting its strong appeal among language learners.\n",
        "\n",
        "*  The list includes a mix of categories, such as sports, games, education, and productivity, indicating varied user preferences.\n",
        "\n",
        "\n",
        "\n",
        "\n",
        "  \n",
        "\n"
      ],
      "metadata": {
        "id": "fpWLM5Xeds6U"
      }
    },
    {
      "cell_type": "markdown",
      "source": [
        "##### 3. Will the gained insights help creating a positive business impact?\n",
        "\n",
        "Yes\n",
        "\n",
        "Are there any insights that lead to negative growth? Justify with specific reason.\n",
        "\n",
        "The chart shows a heavy presence of gaming and sports apps. If market trends shift or user interests evolve away from these categories, growth may decline.\n",
        "Justification: For example, sports apps may see reduced engagement during off-seasons, and gaming apps face intense competition and changing trends.\n"
      ],
      "metadata": {
        "id": "zz12X1mads6V"
      }
    },
    {
      "cell_type": "markdown",
      "source": [
        "#### Chart - 15"
      ],
      "metadata": {
        "id": "MFkPmBhvebKy"
      }
    },
    {
      "cell_type": "code",
      "source": [
        "# Chart -15 visualization code\n",
        "avg_rating_by_category = data.groupby('Category')['Rating'].mean().sort_values(ascending=False).head(10)\n",
        "avg_rating_by_category.plot(kind='barh', figsize=(10, 6))\n",
        "plt.title('Top Categories by Average Rating')\n",
        "plt.xlabel('Average Rating')\n",
        "plt.ylabel('Category')\n",
        "plt.show()"
      ],
      "metadata": {
        "id": "YJUA4cJ6ebKz"
      },
      "execution_count": null,
      "outputs": []
    },
    {
      "cell_type": "code",
      "source": [
        "# Chart - 15 visualization code\n",
        "avg_rating_by_category = data.groupby('Category')['Rating'].mean().sort_values(ascending=False).head(10) # Calculate and select the top 10 categories by average rating\n",
        "avg_rating_by_category.plot(kind='barh', figsize=(10, 6)) # Create a horizontal bar plot to visualize the top 10 categories by average rating\n",
        "plt.title('Top Categories by Average Rating') # Set the title of the chart\n",
        "plt.xlabel('Average Rating') # Set the x-axis label to 'Average Rating'\n",
        "plt.ylabel('Category') # Set the y-axis label to 'Category'\n",
        "plt.show() # Display the chart"
      ],
      "metadata": {
        "id": "BIkS10dhehiM"
      },
      "execution_count": null,
      "outputs": []
    },
    {
      "cell_type": "markdown",
      "source": [
        "##### 1. Why did you pick the specific chart?"
      ],
      "metadata": {
        "id": "E6Sr4-LkebK0"
      }
    },
    {
      "cell_type": "markdown",
      "source": [
        "Developers and businesses can use this data to prioritize or avoid specific categories based on this chart."
      ],
      "metadata": {
        "id": "lknAB8h1ebK1"
      }
    },
    {
      "cell_type": "markdown",
      "source": [
        "##### 2. What is/are the insight(s) found from the chart?"
      ],
      "metadata": {
        "id": "qmtOGIUrebK1"
      }
    },
    {
      "cell_type": "markdown",
      "source": [
        "\n",
        "*  19 is an outlier that somehow ended in ratings column could be due to some error or data manipulation\n",
        "\n",
        "*   Categories like Events, Education, and Art and Design have relatively higher average ratings compared to others.\n",
        "\n",
        "*  \tCategories such as Personalization, Parenting, and Games fall into the mid-range for average ratings.\n",
        "\n",
        "*  \t Health and Fitness and Beauty are among the lower-rated categories.\n",
        "\n",
        "\n",
        "\n",
        "\n",
        "\n",
        "  \n",
        "\n"
      ],
      "metadata": {
        "id": "hMvjBp0RebK2"
      }
    },
    {
      "cell_type": "markdown",
      "source": [
        "##### 3. Will the gained insights help creating a positive business impact?\n",
        "\n",
        "Yes\n",
        "\n",
        "Are there any insights that lead to negative growth? Justify with specific reason.\n",
        "\n",
        "o\tCategories like ART_AND_DESIGN and PERSONALIZATION have moderate to low ratings despite being trend-driven.\n",
        "o\tReason: Failure to innovate or address user needs in these areas could hinder their potential to drive growth.\n",
        "\n"
      ],
      "metadata": {
        "id": "qXmssBvgebK3"
      }
    },
    {
      "cell_type": "markdown",
      "source": [
        "#### Chart - 16"
      ],
      "metadata": {
        "id": "OeZyKIwbe9RW"
      }
    },
    {
      "cell_type": "code",
      "source": [
        "# Chart -16 visualization code\n",
        "plt.figure(figsize=(10, 6))\n",
        "sns.boxplot(x='Content Rating', y='Size', data=data)\n",
        "plt.title('App Size Distribution by Content Rating')\n",
        "plt.xlabel('Content Rating')\n",
        "plt.ylabel('Size (MB)')\n",
        "plt.show()"
      ],
      "metadata": {
        "id": "gn25MbmUe9RX"
      },
      "execution_count": null,
      "outputs": []
    },
    {
      "cell_type": "code",
      "source": [
        "# Chart - 16 visualization code\n",
        "plt.figure(figsize=(10, 6)) # Create a figure with a specific size\n",
        "sns.boxplot(x='Content Rating', y='Size', data=data) # Create a box plot to visualize app size distribution by content rating\n",
        "plt.title('App Size Distribution by Content Rating') # Set the title of the chart\n",
        "plt.xlabel('Content Rating') # Set the x-axis label to 'Content Rating'\n",
        "plt.ylabel('Size (MB)') # Set the y-axis label to 'Size (MB)'\n",
        "plt.show() # Display the chart"
      ],
      "metadata": {
        "id": "YhSeunVYfDwf"
      },
      "execution_count": null,
      "outputs": []
    },
    {
      "cell_type": "markdown",
      "source": [
        "##### 1. Why did you pick the specific chart?"
      ],
      "metadata": {
        "id": "XvChRuaee9RY"
      }
    },
    {
      "cell_type": "markdown",
      "source": [
        "o\tIt helps in understanding if high-priced apps have any significant sales share or if they suffer from negative growth due to user reluctance.\n",
        "5.\n",
        "o\tApp developers can use this information to decide whether to launch paid apps, adopt freemium models, or adjust pricing for better market fit.\n"
      ],
      "metadata": {
        "id": "wVaqizcue9RY"
      }
    },
    {
      "cell_type": "markdown",
      "source": [
        "##### 2. What is/are the insight(s) found from the chart?"
      ],
      "metadata": {
        "id": "3TbZ19-se9RZ"
      }
    },
    {
      "cell_type": "markdown",
      "source": [
        "\n",
        "* \tThe \"Everyone\" category has a wide distribution, indicating apps of all sizes.\n",
        "\n",
        "* \t\"Everyone 10+\" and \"Teen\" apps generally have larger median sizes compared to others.\n",
        "\n",
        "*   Outliers Are Present in Every Category\n",
        "\n",
        "*  Adults-Only Apps Tend to Be Smaller\n",
        "\n",
        "* \"Adults only 18+\" apps have a more compact size distribution with fewer outliers.\n",
        "\n",
        "*   Apps for \"Everyone\" and \"Mature 17+\" Have the Most Size Variation\n",
        "\n",
        "* The \"Unrated\" category shows minimal variance, suggesting that these apps may follow a specific size standard.\n",
        "\n",
        "\n",
        "\n",
        "\n",
        "\n",
        "  \n",
        "\n"
      ],
      "metadata": {
        "id": "r95dM-h0e9Ra"
      }
    },
    {
      "cell_type": "markdown",
      "source": [
        "##### 3. Will the gained insights help creating a positive business impact?\n",
        "\n",
        "Yes\n",
        "\n",
        "Are there any insights that lead to negative growth? Justify with specific reason.\n",
        "\n",
        "Large App Size Can Lead to Fewer Installs\n",
        "\n",
        "Apps in the \"Everyone\" and \"Mature 17+\" categories show high size variability with many large-sized apps.\n",
        "\n",
        "\n"
      ],
      "metadata": {
        "id": "lhEXuhf0e9Ra"
      }
    },
    {
      "cell_type": "markdown",
      "source": [
        "#### Chart - 17"
      ],
      "metadata": {
        "id": "R9bAMIT_fWEt"
      }
    },
    {
      "cell_type": "code",
      "source": [
        "# Chart -17 visualization code\n",
        "avg_reviews_by_content = data.groupby('Content Rating')['Reviews'].mean().sort_values(ascending=False)\n",
        "avg_reviews_by_content.plot(kind='bar', figsize=(8, 5))\n",
        "plt.title('Average Reviews by Content Rating')\n",
        "plt.xlabel('Content Rating')\n",
        "plt.ylabel('Average Reviews')\n",
        "plt.show()"
      ],
      "metadata": {
        "id": "LoNHZzplfWEu"
      },
      "execution_count": null,
      "outputs": []
    },
    {
      "cell_type": "code",
      "source": [
        "# Chart - 17 visualization code\n",
        "avg_reviews_by_content = data.groupby('Content Rating')['Reviews'].mean().sort_values(ascending=False) # Calculate and sort average reviews by content rating\n",
        "avg_reviews_by_content.plot(kind='bar', figsize=(8, 5)) # Create a bar plot to visualize average reviews by content rating\n",
        "plt.title('Average Reviews by Content Rating') # Set the title of the chart\n",
        "plt.xlabel('Content Rating') # Set the x-axis label to 'Content Rating'\n",
        "plt.ylabel('Average Reviews') # Set the y-axis label to 'Average Reviews'\n",
        "plt.show() # Display the chart"
      ],
      "metadata": {
        "id": "CgkqoKOAfdRs"
      },
      "execution_count": null,
      "outputs": []
    },
    {
      "cell_type": "markdown",
      "source": [
        "##### 1. Why did you pick the specific chart?"
      ],
      "metadata": {
        "id": "egCAAbfFfWEv"
      }
    },
    {
      "cell_type": "markdown",
      "source": [
        "Shows which content rating has the highest user engagement.\n",
        "•  Helps in user targeting by identifying which content categories receive the most feedback.\n"
      ],
      "metadata": {
        "id": "bkukB6sOfWEw"
      }
    },
    {
      "cell_type": "markdown",
      "source": [
        "##### 2. What is/are the insight(s) found from the chart?"
      ],
      "metadata": {
        "id": "BlsQyTqAfWEw"
      }
    },
    {
      "cell_type": "markdown",
      "source": [
        "\n",
        "* \tApps in the \"Everyone 10+\" category have significantly higher average reviews, indicating they are more engaging or widely used.\n",
        "\n",
        "*\t The \"Teen\" category follows closely behind \"Everyone 10+\", suggesting that apps for teenagers tend to have an active user base.\n",
        "\n",
        "*  Apps rated \"Mature 17+\" and \"Everyone\" have moderate review counts, possibly indicating a mix of popular and niche apps.\n",
        "\n",
        "  The \"Adults Only 18+\" category shows the lowest engagement, likely due to a restricted audience.\n",
        "\n",
        "\n",
        "\n",
        "\n",
        "\n",
        "\n",
        "\n",
        "\n",
        "  \n",
        "\n"
      ],
      "metadata": {
        "id": "vJTfDMXsfWEx"
      }
    },
    {
      "cell_type": "markdown",
      "source": [
        "##### 3. Will the gained insights help creating a positive business impact?\n",
        "\n",
        "Yes\n",
        "\n",
        "Are there any insights that lead to negative growth? Justify with specific reason.\n",
        "\n",
        "The \"Adults Only 18+\" category has the lowest average reviews, indicating fewer user interactions.\n",
        "  Reasons:\n",
        "Limited audience due to content restrictions.\n",
        "\n",
        "\n"
      ],
      "metadata": {
        "id": "tYtMr59qfWEy"
      }
    },
    {
      "cell_type": "markdown",
      "source": [
        "#### Chart - 18"
      ],
      "metadata": {
        "id": "2Q3migl-f5RM"
      }
    },
    {
      "cell_type": "code",
      "source": [
        "# Chart -18 visualization code\n",
        "from wordcloud import WordCloud\n",
        "wordcloud_genres = WordCloud(width=800, height=400, background_color='white').generate(' '.join(data['Genres']))\n",
        "plt.figure(figsize=(10, 6))\n",
        "plt.imshow(wordcloud_genres, interpolation='bilinear')\n",
        "plt.axis('off')\n",
        "plt.title('Word Cloud of Genres')\n",
        "plt.show()\n"
      ],
      "metadata": {
        "id": "targo-v0f5RM"
      },
      "execution_count": null,
      "outputs": []
    },
    {
      "cell_type": "code",
      "source": [
        "# Chart - 18 visualization code\n",
        "from wordcloud import WordCloud # Import the WordCloud library\n",
        "wordcloud_genres = WordCloud(width=800, height=400, background_color='white').generate(' '.join(data['Genres'])) # Create a WordCloud object and generate the word cloud from the 'Genres' column\n",
        "plt.figure(figsize=(10, 6)) # Create a figure with a specific size\n",
        "plt.imshow(wordcloud_genres, interpolation='bilinear') # Display the generated word cloud image\n",
        "plt.axis('off') # Turn off the axis\n",
        "plt.title('Word Cloud of Genres') # Set the title of the chart\n",
        "plt.show() # Display the chart"
      ],
      "metadata": {
        "id": "xzxJBfxxgRHr"
      },
      "execution_count": null,
      "outputs": []
    },
    {
      "cell_type": "markdown",
      "source": [
        "##### 1. Why did you pick the specific chart?"
      ],
      "metadata": {
        "id": "JDFTP7hAf5RM"
      }
    },
    {
      "cell_type": "markdown",
      "source": [
        "This chart shows the most popular apps by order of size, thus giving us a good idea of how much each kind of app is popular compared to the other"
      ],
      "metadata": {
        "id": "lrT0X2K8f5RN"
      }
    },
    {
      "cell_type": "markdown",
      "source": [
        "##### 2. What is/are the insight(s) found from the chart?"
      ],
      "metadata": {
        "id": "iSHEn9Swf5RN"
      }
    },
    {
      "cell_type": "markdown",
      "source": [
        "##### 3. Will the gained insights help creating a positive business impact?\n",
        "\n",
        "Yes\n",
        "\n",
        "Are there any insights that lead to negative growth? Justify with specific reason.\n",
        "\n",
        "o\tThe market is oversaturated, making it difficult for new apps to stand out.\n",
        "\n"
      ],
      "metadata": {
        "id": "0DxymY-BgE1b"
      }
    },
    {
      "cell_type": "markdown",
      "source": [
        "\n",
        "*  Medical, Tools, and Health & Fitness Are Dominant,These genres appear in the largest font, suggesting they have a high number of apps in the Play Store.\n",
        "\n",
        "*  Entertainment and Education Are Also Popular,\tThese genres are prominently displayed, showing that learning and leisure apps are also in demand.\n",
        "\n",
        "*  Although smaller, genres like Dating, News, and Magazines indicate specific audience demand.\n",
        "\n",
        "*  Travel and Local Services Have a Strong Presence\n",
        "\n",
        "\n",
        "\n",
        "\n",
        "\n",
        "\n",
        "\n",
        "\n",
        "\n",
        "\n",
        "  \n",
        "\n"
      ],
      "metadata": {
        "id": "dzXVih8Tf5RN"
      }
    },
    {
      "cell_type": "markdown",
      "source": [
        "##### 3. Will the gained insights help creating a positive business impact?\n",
        "\n",
        "Yes\n",
        "\n",
        "Are there any insights that lead to negative growth? Justify with specific reason.\n",
        "\n",
        "  The market is oversaturated, making it difficult for new apps to stand out.\n",
        "\n"
      ],
      "metadata": {
        "id": "Wy-vOtplf5RN"
      }
    },
    {
      "cell_type": "markdown",
      "source": [
        "#### Chart - 19"
      ],
      "metadata": {
        "id": "B0_KvksBgiqp"
      }
    },
    {
      "cell_type": "code",
      "source": [
        "# Chart -19 visualization code\n",
        "category_type_counts = data.groupby(['Category', 'Type']).size().unstack()\n",
        "category_type_counts.plot(kind='bar', stacked=False, figsize=(15, 7))\n",
        "plt.title('Apps by Category and Type')\n",
        "plt.xlabel('Category')\n",
        "plt.ylabel('Count')\n",
        "plt.legend(title='Type')\n",
        "plt.xticks(rotation=90)"
      ],
      "metadata": {
        "id": "yll574EDgiqp"
      },
      "execution_count": null,
      "outputs": []
    },
    {
      "cell_type": "code",
      "source": [
        "# Chart - 19 visualization code\n",
        "category_type_counts = data.groupby(['Category', 'Type']).size().unstack() # Group data by category and type, then unstack for plotting\n",
        "category_type_counts.plot(kind='bar', stacked=False, figsize=(15, 7)) # Create a bar plot to visualize app counts by category and type\n",
        "plt.title('Apps by Category and Type') # Set the title of the chart\n",
        "plt.xlabel('Category') # Set the x-axis label to 'Category'\n",
        "plt.ylabel('Count') # Set the y-axis label to 'Count'\n",
        "plt.legend(title='Type') # Display a legend to distinguish between app types (Free/Paid)\n",
        "plt.xticks(rotation=90) # Rotate x-axis labels for better readability\n",
        "plt.show() # Display the chart #added this line"
      ],
      "metadata": {
        "id": "GM9mut3egvl4"
      },
      "execution_count": null,
      "outputs": []
    },
    {
      "cell_type": "markdown",
      "source": [
        "##### 1. Why did you pick the specific chart?"
      ],
      "metadata": {
        "id": "ORiMYUt-i2N5"
      }
    },
    {
      "cell_type": "markdown",
      "source": [
        "It shows how many apps are Free vs. Paid across each category, helping identify where the freemium model dominates and where paid apps exist."
      ],
      "metadata": {
        "id": "YQBfq2mMjI7X"
      }
    },
    {
      "cell_type": "markdown",
      "source": [],
      "metadata": {
        "id": "A19sBMWijI1J"
      }
    },
    {
      "cell_type": "markdown",
      "source": [
        "##### 2. What is/are the insight(s) found from the chart?"
      ],
      "metadata": {
        "id": "GlcrbRpuieVD"
      }
    },
    {
      "cell_type": "markdown",
      "source": [
        "*  Free apps significantly outnumber paid apps in every category, indicating that the freemium model is the most widely adopted across the Play Store.\n",
        "\n",
        "*  The 'Family' category leads by a large margin, suggesting it's a highly saturated and competitive space, especially for free apps.\n",
        "\n",
        "*  Categories like Dating, Comics, and Weather have very few paid apps, suggesting that users expect these services to be free or are less willing to pay in these niches."
      ],
      "metadata": {
        "id": "asEWWcpfhA7J"
      }
    },
    {
      "cell_type": "markdown",
      "source": [
        "##### 3. Will the gained insights help creating a positive business impact?\n",
        "\n",
        "Yes\n",
        "\n",
        "Are there any insights that lead to negative growth? Justify with specific reason.\n",
        "\n",
        "Paid apps are significantly outnumbered by free apps in every category.\n",
        "\n"
      ],
      "metadata": {
        "id": "LgiHvD1GjP0p"
      }
    },
    {
      "cell_type": "markdown",
      "source": [
        "#### Chart - 20"
      ],
      "metadata": {
        "id": "9AMfHwjohGkV"
      }
    },
    {
      "cell_type": "code",
      "source": [
        "# Chart -20 visualization code\n",
        "paid_apps = data[data['Price'] > 0]\n",
        "sns.scatterplot(x='Price', y='Installs', data=paid_apps)\n",
        "plt.title('Installs vs Price for Paid Apps')\n",
        "plt.xlabel('Price ($)')\n",
        "plt.ylabel('Installs')\n",
        "plt.show()\n"
      ],
      "metadata": {
        "id": "V3MmzAwQhGkW"
      },
      "execution_count": null,
      "outputs": []
    },
    {
      "cell_type": "code",
      "source": [
        "# Chart - 20 visualization code\n",
        "paid_apps = data[data['Price'] > 0] # Filter for paid apps only\n",
        "sns.scatterplot(x='Price', y='Installs', data=paid_apps) # Create a scatter plot for price vs installs for paid apps\n",
        "plt.title('Installs vs Price for Paid Apps') # Set the title of the chart\n",
        "plt.xlabel('Price ($)') # Set the x-axis label\n",
        "plt.ylabel('Installs') # Set the y-axis label\n",
        "plt.show() # Display the chart"
      ],
      "metadata": {
        "id": "XqiEqafChRtJ"
      },
      "execution_count": null,
      "outputs": []
    },
    {
      "cell_type": "markdown",
      "source": [
        "##### 1. Why did you pick the specific chart?"
      ],
      "metadata": {
        "id": "2LmKMInFhGkW"
      }
    },
    {
      "cell_type": "markdown",
      "source": [
        "It helps reveal how the price of paid apps affects the number of installs, offering insight into consumer behavior and price sensitivity."
      ],
      "metadata": {
        "id": "m-OnuItYhGkW"
      }
    },
    {
      "cell_type": "markdown",
      "source": [
        "##### 2. What is/are the insight(s) found from the chart?"
      ],
      "metadata": {
        "id": "EDkP4ZZre7yg"
      }
    },
    {
      "cell_type": "markdown",
      "source": [
        "\n",
        "*  Low-priced apps have the highest installs – most downloads occur for apps priced under $5.\n",
        "\n",
        "*  Higher prices lead to drastically fewer installs – demand sharply drops as price increases.\n",
        "\n",
        "*  Extreme outliers ($100–$400) have near-zero installs, suggesting mispricing or niche irrelevance.\n",
        "\n",
        "*  Price is inversely correlated with installs, highlighting strong price sensitivity among users.\n",
        "\n",
        "\n",
        "\n",
        "\n",
        "\n",
        "\n",
        "\n",
        "\n",
        "  \n",
        "\n"
      ],
      "metadata": {
        "id": "i-uPoRS8e7yh"
      }
    },
    {
      "cell_type": "markdown",
      "source": [
        "##### 3. Will the gained insights help creating a positive business impact?\n",
        "\n",
        "Yes\n",
        "\n",
        "Are there any insights that lead to negative growth? Justify with specific reason.\n",
        "\n",
        "Apps with higher prices tend to experience significantly lower installs, often close to zero beyond the $50 mark."
      ],
      "metadata": {
        "id": "vVWgo6-sgJDn"
      }
    },
    {
      "cell_type": "markdown",
      "source": [
        "#### Chart -21 - Correlation Heatmap"
      ],
      "metadata": {
        "id": "NC_X3p0fY2L0"
      }
    },
    {
      "cell_type": "code",
      "source": [
        "# Correlation Heatmap visualization code\n",
        "numeric_data = data.select_dtypes(include=np.number)  # Select only numeric columns\n",
        "sns.heatmap(numeric_data.corr(), annot=True, cmap='coolwarm')\n",
        "plt.title('Correlation Heatmap')\n",
        "plt.show()"
      ],
      "metadata": {
        "id": "xyC9zolEZNRQ"
      },
      "execution_count": null,
      "outputs": []
    },
    {
      "cell_type": "code",
      "source": [
        "# Correlation Heatmap visualization code\n",
        "numeric_data = data.select_dtypes(include=np.number)  # Select only numeric columns for correlation analysis\n",
        "sns.heatmap(numeric_data.corr(), annot=True, cmap='coolwarm') # Create a heatmap to visualize correlations between numeric features\n",
        "plt.title('Correlation Heatmap') # Set the title of the heatmap\n",
        "plt.show() # Display the heatmap"
      ],
      "metadata": {
        "id": "wMzdE7ZQhYH0"
      },
      "execution_count": null,
      "outputs": []
    },
    {
      "cell_type": "markdown",
      "source": [
        "##### 1. Why did you pick the specific chart?"
      ],
      "metadata": {
        "id": "UV0SzAkaZNRQ"
      }
    },
    {
      "cell_type": "markdown",
      "source": [
        "Identifying Relationships Between Variables:\n",
        "The heatmap visually highlights the strength and direction of relationships (positive or negative) between various numerical variables, such as Rating, Reviews, Size, Installs, Price, and Year.\n",
        "\n",
        "Highlighting Key Influencers:\n",
        "By observing high or moderate correlations, analysts can determine which variables significantly influence one another. For instance, a high correlation between Reviews and Installs indicates that higher installs often result in more reviews.\n",
        "\n",
        "Detecting Potential Multicollinearity:\n",
        "This chart helps identify if certain variables are highly correlated with one another, which could pose issues in predictive modeling or regression analysis. For example, if Reviews and Installs are strongly correlated, it may require additional preprocessing to avoid redundancy.\n",
        "\n",
        "Guiding Feature Selection:\n",
        "Variables with minimal or no correlation (e.g., Price and Installs) can be deprioritized in predictive modeling or further analysis, streamlining the focus on impactful features.\n",
        "\n",
        "Understanding Trends for Growth Analysis:\n",
        "By analyzing correlations, stakeholders can identify growth-driving factors (e.g., installs correlated with reviews) and factors that might negatively affect growth (e.g., price slightly negatively correlated with installs)."
      ],
      "metadata": {
        "id": "DVPuT8LYZNRQ"
      }
    },
    {
      "cell_type": "markdown",
      "source": [
        "##### 2. What is/are the insight(s) found from the chart?"
      ],
      "metadata": {
        "id": "YPEH6qLeZNRQ"
      }
    },
    {
      "cell_type": "markdown",
      "source": [
        "Strong Correlation Between Reviews and Installs: The correlation between Reviews and Installs is significant (0.64), indicating that higher installs often lead to more user reviews.\n",
        "\n",
        "Weak Correlation with Rating: Rating has low correlation values with other factors, suggesting that high ratings are not directly influenced by size, reviews, or installs.\n",
        "\n",
        "Size and Year Show Slight Positive Correlation: Size has a weak positive correlation with Year (0.18), indicating a slight trend of app sizes increasing over time.\n",
        "\n",
        "Price Has Minimal Impact: Price shows negligible correlation with other variables, indicating its limited role in influencing app installs, reviews, or ratings.\n",
        "\n",
        "Year Slightly Influences Ratings: The correlation between Year and Ratings (0.12) suggests newer apps might have slightly better ratings, though the effect is minimal.\n",
        "Low Correlation Between Size and Installs: The correlation between Size and Installs (0.051) indicates that app size has minimal influence on the number of installs.\n",
        "\n",
        "Negative Correlation Between Price and Rating: The slight negative correlation (-0.019) between Price and Rating suggests that higher-priced apps may not always receive better ratings.\n",
        "\n",
        "Price and Installs Show Almost No Relationship: The correlation between Price and Installs (-0.012) indicates that app pricing does not significantly affect the number of downloads.\n",
        "\n",
        "Reviews Have a Weak Influence on Rating: The correlation between Reviews and Rating (0.06) suggests that the number of reviews is not a strong indicator of how an app is rated.\n",
        "\n",
        "Year and Installs Show Minimal Relationship: The correlation between Year and Installs (0.089) indicates that newer apps slightly trend toward higher installs, but the relationship is weak.\n",
        "\n",
        "Size and Reviews Correlation is Low: The weak correlation (0.11) between Size and Reviews suggests that app size does not strongly impact the likelihood of receiving reviews.\n",
        "\n",
        "Year Shows Minimal Influence Across Variables: The Year variable has weak correlations across most metrics, indicating its limited impact on core app performance attributes."
      ],
      "metadata": {
        "id": "bfSqtnDqZNRR"
      }
    },
    {
      "cell_type": "markdown",
      "source": [],
      "metadata": {
        "id": "9WV7QjQg30jz"
      }
    },
    {
      "cell_type": "markdown",
      "source": [
        "#### Chart - 22 - Pair Plot"
      ],
      "metadata": {
        "id": "q29F0dvdveiT"
      }
    },
    {
      "cell_type": "code",
      "source": [
        "# Pair Plot visualization code\n",
        "numerical_cols = ['Rating', 'Reviews', 'Size', 'Installs', 'Price']\n",
        "\n",
        "# Create the pair plot\n",
        "sns.pairplot(data[numerical_cols])\n",
        "plt.suptitle('Pair Plot of Numerical Features', y=1.02)\n",
        "plt.show()"
      ],
      "metadata": {
        "id": "sbk6A4hx2XXn"
      },
      "execution_count": null,
      "outputs": []
    },
    {
      "cell_type": "code",
      "source": [
        "# Pair Plot visualization code\n",
        "numerical_cols = ['Rating', 'Reviews', 'Size', 'Installs', 'Price'] # Define the numerical columns to be included in the pair plot\n",
        "\n",
        "# Create the pair plot\n",
        "sns.pairplot(data[numerical_cols]) # Create a pair plot using Seaborn to visualize relationships between numerical features\n",
        "plt.suptitle('Pair Plot of Numerical Features', y=1.02) # Set the title of the pair plot\n",
        "plt.show() # Display the pair plot"
      ],
      "metadata": {
        "id": "8NKkq7R3hleX"
      },
      "execution_count": null,
      "outputs": []
    },
    {
      "cell_type": "markdown",
      "source": [
        "##### 1. Why did you pick the specific chart?"
      ],
      "metadata": {
        "id": "EXh0U9oCveiU"
      }
    },
    {
      "cell_type": "markdown",
      "source": [
        "*  this plot  is used to visualize relationships and patterns between numerical variables in a dataset.\n",
        "\n",
        "*  It helps identify correlations and\n",
        "dependencies between variables\n",
        "\n",
        " *  This chart highlights outliers that might need attention, such as unusually high prices or extremely large install counts.\n",
        "\n",
        "*  The diagonal plots display the distribution of each variable, providing insights into their ranges and common values.\n",
        "\n",
        "*  Pair plots reveal potential nonlinear relationships or lack of correlation between variables.\n",
        "\n",
        "\n",
        "*  It visually summarizes all pairwise relationships at once.\n"
      ],
      "metadata": {
        "id": "THo7DjbL2XXo"
      }
    },
    {
      "cell_type": "markdown",
      "source": [
        "##### 2. What is/are the insight(s) found from the chart?"
      ],
      "metadata": {
        "id": "22aHeOlLveiV"
      }
    },
    {
      "cell_type": "markdown",
      "source": [
        "\n",
        "*  Ratings are generally clustered around 4-5, with no clear linear correlation with features like Reviews, Size, Installs, or Price.\n",
        "\n",
        "*  There's a strong positive correlation between Reviews and Installs, more installs often lead to more reviews.\n",
        "\n",
        "*  Size does not show a clear trend with other variables, indicating app size may not heavily influence factors like Rating, Reviews, or Installs.\n",
        "\n",
        "*  Price has an extreme concentration at zero, suggesting most apps are free, with a few outliers at higher prices.\n",
        "\n",
        "*  Installs show a significant disparity, with a majority of apps having low install counts and a few with very high counts.\n",
        "\n",
        "\n",
        "*  Most apps with higher install counts are free, indicating that users prefer free apps. Paid apps tend to have fewer installs.\n",
        "\n",
        "*  Apps with higher prices generally have fewer reviews, indicating that paid apps attract less user interaction compared to free apps.\n",
        "\n",
        "*  There are outliers in Reviews, Price, and Installs.\n",
        "\n",
        "*  Ratings are tightly clustered, with most apps having ratings between 4 and 5. Extremely low or high ratings are rare.\n",
        "\n",
        "*  Reviews and Installs are the most strongly correlated pair.\n",
        "Other pairs, like Size vs. Price or Rating vs. Reviews, show little to no correlation."
      ],
      "metadata": {
        "id": "uPQ8RGwHveiV"
      }
    },
    {
      "cell_type": "markdown",
      "source": [
        "## **5. Solution to Business Objective**"
      ],
      "metadata": {
        "id": "JcMwzZxoAimU"
      }
    },
    {
      "cell_type": "markdown",
      "source": [
        "#### What do you suggest the client to achieve Business Objective ?\n",
        "Explain Briefly."
      ],
      "metadata": {
        "id": "8G2x9gOozGDZ"
      }
    },
    {
      "cell_type": "markdown",
      "source": [
        "*  Focus on Popular Categories\n",
        "\n",
        "The category-wise breakdown shows that \"Family,\" \"Tools,\" \"Games,\" and \"Communication\" apps dominate the market.\n",
        "\n",
        "Target popular categories but offer unique features to stand out, or explore less competitive but emerging niches like \"Art & Design\" or \"Health & Fitness.\"\n",
        "Leverage the Free App Model\n",
        "\n",
        " *  Free apps are overwhelmingly preferred across all categories.\n",
        "\n",
        " Use a freemium model—offer the app for free but monetize through in-app purchases, ads, or premium features.\n",
        "Optimize App Size for Better Engagement\n",
        "\n",
        "*  Smaller app sizes correlate better with higher installs, especially in categories like \"Communication\" and \"Tools.\"\n",
        "\n",
        " Reduce app size to improve download rates, particularly for regions with slower internet speeds or storage constraints.\n",
        "Capitalize on High-Install Categories\n",
        "\n",
        "*  \"Communication,\" \"Social,\" and \"Tools\" apps tend to have the highest install rates.\n",
        "\n",
        " Invest in app development for categories with large user bases and focus on delivering functionality that fosters retention.\n",
        "Prioritize Positive Ratings and Reviews\n",
        "\n",
        "*  Higher ratings and reviews are positively correlated with installs.\n",
        "\n",
        "Improve user experience, actively seek reviews, and resolve negative feedback quickly to maintain a high app rating.\n",
        "\n",
        "*  Explore Paid Apps in Niche Categories\n",
        "\n",
        "Paid apps perform better in specific categories like \"Education\" and \"Health & Fitness.\"\n",
        "\n",
        "*  For niche, high-value markets, consider offering a paid app with advanced or specialized features.\n",
        "\n",
        "*  Set Competitive Pricing\n",
        "\n",
        "Extremely high prices correlate negatively with installs, while moderately priced apps perform better in specific categories.\n",
        "\n",
        "Benchmark prices against competitors in the same category and consider tiered pricing to cater to different user segments.\n",
        "\n",
        " *  Identify and Address Negative Growth Areas\n",
        "\n",
        "Certain app categories (e.g., \"Parenting,\" \"Weather\") have lower engagement despite being free.\n",
        "\n",
        "Reevaluate app offerings in these categories and address user pain points through innovation or better marketing.\n",
        "\n",
        "*  Tailor Marketing by Category\n",
        "\n",
        "Categories like \"Games\" and \"Entertainment\" have higher engagement among younger users.\n",
        "\n",
        "Use targeted advertising and partnerships with platforms popular in those demographics.\n",
        "\n",
        "*  Focus on Emerging Markets\n",
        "\n",
        "Install numbers in \"Tools,\" \"Productivity,\" and \"Education\" suggest growing demand in developing markets.\n",
        "     \n",
        "Localize apps for emerging markets with language support and region-specific features.\n",
        "*  Incorporate Data-Driven Features\n",
        "\n",
        "The correlation heatmap shows factors like installs, reviews, and ratings as strong indicators of user preferences.\n",
        "\n",
        "Continuously collect user data and use analytics to refine app features based on user behavior.\n",
        "\n",
        "*  Monitor Over-Saturation Risks\n",
        "\n",
        "     Some popular categories (e.g., \"Games\" and \"Family\") have many apps but moderate engagement.\n",
        "\n",
        " Differentiate by offering unique features or entering less saturated subcategories.\n",
        "\n",
        "*  Enhance Retention for Paid Apps\n",
        "\n",
        "     Paid apps tend to have lower installs compared to free apps.\n",
        "\n",
        "*  Improve retention with periodic updates, exclusive features, and loyalty programs.\n",
        "\n",
        "Streamline Updates Based on Reviews\n",
        "\n",
        "*  Positive reviews significantly correlate with installs.\n",
        "\n",
        " Use user feedback to prioritize app updates and feature enhancements.\n",
        "\n",
        "*  Focus on Accessibility and Ease of Use\n",
        "\n",
        "High-performing apps often have user-friendly interfaces and seamless experiences.\n",
        "\n",
        "\n",
        " Conduct user testing to ensure apps are intuitive and accessible to a broad audience.\n",
        "\n",
        "\n",
        "By implementing these strategies based on the chart insights, the client can effectively achieve their business objectives of app growth, user retention, and revenue maximization."
      ],
      "metadata": {
        "id": "pASKb0qOza21"
      }
    },
    {
      "cell_type": "markdown",
      "source": [
        "# **Conclusion**"
      ],
      "metadata": {
        "id": "gCX9965dhzqZ"
      }
    },
    {
      "cell_type": "markdown",
      "source": [
        "The exploratory data analysis (EDA) highlights key insights that can drive strategic decision-making for app development, marketing, and revenue generation. Popular app categories like Family, Tools, and Games dominate the market, indicating high demand, while paid apps perform better in niche categories such as Books, Finance, and Health. Freemium models are highly effective for driving installs and engagement, while premium pricing strategies require careful positioning to justify value to users.\n",
        "\n",
        "Negative growth areas, such as categories with high competition or declining user interest, emphasize the need to pivot strategies toward innovation, better user experiences, and regular updates. Additionally, understanding user sentiment through reviews and optimizing app sizes can further enhance satisfaction and retention.\n",
        "\n",
        "By focusing on data-backed decisions, such as targeting high-growth categories, improving user experiences, and leveraging freemium models, the business can achieve sustainable growth, increased user adoption, and long-term profitability in a competitive app marketplace."
      ],
      "metadata": {
        "id": "Fjb1IsQkh3yE"
      }
    },
    {
      "cell_type": "markdown",
      "source": [
        "### ***Hurrah! You have successfully completed your EDA Capstone Project !!!***"
      ],
      "metadata": {
        "id": "gIfDvo9L0UH2"
      }
    },
    {
      "cell_type": "markdown",
      "source": [],
      "metadata": {
        "id": "NwcwfgkBQFtV"
      }
    },
    {
      "cell_type": "markdown",
      "source": [
        "#### Chart - 01"
      ],
      "metadata": {
        "id": "WubXyCL8QYJf"
      }
    },
    {
      "cell_type": "code",
      "source": [
        "# Chart -01 visualization code\n",
        "top_app_names = data['App'].value_counts().head(10)\n",
        "top_app_names.plot(kind='barh', figsize=(8, 6))\n",
        "plt.title('Top 10 Most Common App Names')\n",
        "plt.xlabel('Count')\n",
        "plt.ylabel('App Name')\n",
        "plt.show()"
      ],
      "metadata": {
        "id": "guedzcoXQYJg"
      },
      "execution_count": null,
      "outputs": []
    },
    {
      "cell_type": "markdown",
      "source": [
        "##### 1. Why did you pick the specific chart?"
      ],
      "metadata": {
        "id": "2xhEiHwMQYJh"
      }
    },
    {
      "cell_type": "markdown",
      "source": [
        "This chart highlights the naming trends of apps, showcasing the most frequently used app titles. It identifies repetitive naming conventions or popular themes.\n"
      ],
      "metadata": {
        "id": "2Vt98EQRQYJi"
      }
    },
    {
      "cell_type": "markdown",
      "source": [
        "##### 2. What is/are the insight(s) found from the chart?"
      ],
      "metadata": {
        "id": "GQ9lOLhgQYJi"
      }
    },
    {
      "cell_type": "markdown",
      "source": [
        "\n",
        "*  OBLOX Dominance ROBLOX is the most frequently mentioned app, showcasing its popularity and strong presence in the market.\n",
        "\n",
        "*  Apps like Bleacher Report, CBS Sports, and ESPN highlight the significant demand for sports-related content.\n",
        "\n",
        "*  Games like Candy Crush Saga, 8 Ball Pool, and Zombie Catchers demonstrate the ongoing user engagement with casual gaming apps.\n",
        "\n",
        "*  Duolingo stands out as the only educational app, reflecting its strong appeal among language learners.\n",
        "\n",
        "*  The list includes a mix of categories, such as sports, games, education, and productivity, indicating varied user preferences.\n",
        "\n",
        "\n",
        "\n",
        "\n",
        "  \n",
        "\n"
      ],
      "metadata": {
        "id": "LOYw_OKtQYJj"
      }
    },
    {
      "cell_type": "markdown",
      "source": [
        "##### 3. Will the gained insights help creating a positive business impact?\n",
        "\n",
        "Yes\n",
        "\n",
        "Are there any insights that lead to negative growth? Justify with specific reason.\n",
        "\n",
        "The chart shows a heavy presence of gaming and sports apps. If market trends shift or user interests evolve away from these categories, growth may decline.\n",
        "Justification: For example, sports apps may see reduced engagement during off-seasons, and gaming apps face intense competition and changing trends.\n"
      ],
      "metadata": {
        "id": "R6r-KER9QYJj"
      }
    },
    {
      "cell_type": "markdown",
      "source": [
        "Answer Here"
      ],
      "metadata": {
        "id": "V4h_N34lQYJj"
      }
    },
    {
      "cell_type": "markdown",
      "source": [],
      "metadata": {
        "id": "vgvKFy5lRQCF"
      }
    },
    {
      "cell_type": "markdown",
      "source": [
        "#### Chart - 02"
      ],
      "metadata": {
        "id": "GN8KeOTrRQvr"
      }
    },
    {
      "cell_type": "code",
      "source": [
        "# Chart -02 visualization code\n",
        "avg_rating_by_category = data.groupby('Category')['Rating'].mean().sort_values(ascending=False).head(10)\n",
        "avg_rating_by_category.plot(kind='barh', figsize=(10, 6))\n",
        "plt.title('Top Categories by Average Rating')\n",
        "plt.xlabel('Average Rating')\n",
        "plt.ylabel('Category')\n",
        "plt.show()"
      ],
      "metadata": {
        "id": "ozsnkufhRQvs"
      },
      "execution_count": null,
      "outputs": []
    },
    {
      "cell_type": "markdown",
      "source": [
        "##### 1. Why did you pick the specific chart?"
      ],
      "metadata": {
        "id": "vfkOFtKiRQvt"
      }
    },
    {
      "cell_type": "markdown",
      "source": [
        "Developers and businesses can use this data to prioritize or avoid specific categories based on this chart."
      ],
      "metadata": {
        "id": "skoLdNtKRQvu"
      }
    },
    {
      "cell_type": "markdown",
      "source": [
        "##### 2. What is/are the insight(s) found from the chart?"
      ],
      "metadata": {
        "id": "otPSG9JORQvu"
      }
    },
    {
      "cell_type": "markdown",
      "source": [
        "\n",
        "*  19 is an outlier that somehow ended in ratings column could be due to some error or data manipulation\n",
        "\n",
        "*   Categories like Events, Education, and Art and Design have relatively higher average ratings compared to others.\n",
        "\n",
        "*  \tCategories such as Personalization, Parenting, and Games fall into the mid-range for average ratings.\n",
        "\n",
        "*  \t Health and Fitness and Beauty are among the lower-rated categories.\n",
        "\n",
        "\n",
        "\n",
        "\n",
        "\n",
        "  \n",
        "\n"
      ],
      "metadata": {
        "id": "Yr6nmte2RQvv"
      }
    },
    {
      "cell_type": "markdown",
      "source": [
        "##### 3. Will the gained insights help creating a positive business impact?\n",
        "\n",
        "Yes\n",
        "\n",
        "Are there any insights that lead to negative growth? Justify with specific reason.\n",
        "\n",
        "o\tCategories like ART_AND_DESIGN and PERSONALIZATION have moderate to low ratings despite being trend-driven.\n",
        "o\tReason: Failure to innovate or address user needs in these areas could hinder their potential to drive growth.\n",
        "\n"
      ],
      "metadata": {
        "id": "dwoW6t_rRQvv"
      }
    },
    {
      "cell_type": "markdown",
      "source": [],
      "metadata": {
        "id": "y_BpPAAvU8qL"
      }
    },
    {
      "cell_type": "markdown",
      "source": [
        "#### Chart - 03"
      ],
      "metadata": {
        "id": "sAK4xzmSU9O-"
      }
    },
    {
      "cell_type": "code",
      "source": [
        "# Chart -03 visualization code\n",
        "plt.figure(figsize=(10, 6))\n",
        "sns.boxplot(x='Content Rating', y='Size', data=data)\n",
        "plt.title('App Size Distribution by Content Rating')\n",
        "plt.xlabel('Content Rating')\n",
        "plt.ylabel('Size (MB)')\n",
        "plt.show()"
      ],
      "metadata": {
        "id": "t3CkIT1QU9O_"
      },
      "execution_count": null,
      "outputs": []
    },
    {
      "cell_type": "markdown",
      "source": [
        "##### 1. Why did you pick the specific chart?"
      ],
      "metadata": {
        "id": "yqGHToUTU9PA"
      }
    },
    {
      "cell_type": "markdown",
      "source": [
        "o\tIt helps in understanding if high-priced apps have any significant sales share or if they suffer from negative growth due to user reluctance.\n",
        "5.\n",
        "o\tApp developers can use this information to decide whether to launch paid apps, adopt freemium models, or adjust pricing for better market fit.\n"
      ],
      "metadata": {
        "id": "-U6xYr-MU9PA"
      }
    },
    {
      "cell_type": "markdown",
      "source": [
        "##### 2. What is/are the insight(s) found from the chart?"
      ],
      "metadata": {
        "id": "Mv3HKb3zU9PB"
      }
    },
    {
      "cell_type": "markdown",
      "source": [
        "\n",
        "* \tThe \"Everyone\" category has a wide distribution, indicating apps of all sizes.\n",
        "\n",
        "* \t\"Everyone 10+\" and \"Teen\" apps generally have larger median sizes compared to others.\n",
        "\n",
        "*   Outliers Are Present in Every Category\n",
        "\n",
        "*  Adults-Only Apps Tend to Be Smaller\n",
        "\n",
        "* \"Adults only 18+\" apps have a more compact size distribution with fewer outliers.\n",
        "\n",
        "*   Apps for \"Everyone\" and \"Mature 17+\" Have the Most Size Variation\n",
        "\n",
        "* The \"Unrated\" category shows minimal variance, suggesting that these apps may follow a specific size standard.\n",
        "\n",
        "\n",
        "\n",
        "\n",
        "\n",
        "  \n",
        "\n"
      ],
      "metadata": {
        "id": "B4COpPD2U9PB"
      }
    },
    {
      "cell_type": "markdown",
      "source": [
        "##### 3. Will the gained insights help creating a positive business impact?\n",
        "\n",
        "Yes\n",
        "\n",
        "Are there any insights that lead to negative growth? Justify with specific reason.\n",
        "\n",
        "Large App Size Can Lead to Fewer Installs\n",
        "\n",
        "Apps in the \"Everyone\" and \"Mature 17+\" categories show high size variability with many large-sized apps.\n",
        "\n",
        "\n"
      ],
      "metadata": {
        "id": "LoFQGGJ9U9PC"
      }
    },
    {
      "cell_type": "markdown",
      "source": [],
      "metadata": {
        "id": "j6iOSLuMWqb7"
      }
    },
    {
      "cell_type": "markdown",
      "source": [
        "#### Chart - 04"
      ],
      "metadata": {
        "id": "L93GioqBWqx2"
      }
    },
    {
      "cell_type": "code",
      "source": [
        "# Chart -04 visualization code\n",
        "avg_reviews_by_content = data.groupby('Content Rating')['Reviews'].mean().sort_values(ascending=False)\n",
        "avg_reviews_by_content.plot(kind='bar', figsize=(8, 5))\n",
        "plt.title('Average Reviews by Content Rating')\n",
        "plt.xlabel('Content Rating')\n",
        "plt.ylabel('Average Reviews')\n",
        "plt.show()"
      ],
      "metadata": {
        "id": "rSkMjVfoWqx3"
      },
      "execution_count": null,
      "outputs": []
    },
    {
      "cell_type": "markdown",
      "source": [
        "##### 1. Why did you pick the specific chart?"
      ],
      "metadata": {
        "id": "PJLPd7-iWqx3"
      }
    },
    {
      "cell_type": "markdown",
      "source": [
        "Shows which content rating has the highest user engagement.\n",
        "•  Helps in user targeting by identifying which content categories receive the most feedback.\n"
      ],
      "metadata": {
        "id": "2C--o9TMWqx4"
      }
    },
    {
      "cell_type": "markdown",
      "source": [
        "##### 2. What is/are the insight(s) found from the chart?"
      ],
      "metadata": {
        "id": "vWT_oqYnWqx4"
      }
    },
    {
      "cell_type": "markdown",
      "source": [
        "\n",
        "* \tApps in the \"Everyone 10+\" category have significantly higher average reviews, indicating they are more engaging or widely used.\n",
        "\n",
        "*\t The \"Teen\" category follows closely behind \"Everyone 10+\", suggesting that apps for teenagers tend to have an active user base.\n",
        "\n",
        "*  Apps rated \"Mature 17+\" and \"Everyone\" have moderate review counts, possibly indicating a mix of popular and niche apps.\n",
        "\n",
        "  The \"Adults Only 18+\" category shows the lowest engagement, likely due to a restricted audience.\n",
        "\n",
        "\n",
        "\n",
        "\n",
        "\n",
        "\n",
        "\n",
        "\n",
        "  \n",
        "\n"
      ],
      "metadata": {
        "id": "yFqs-Tn3Wqx5"
      }
    },
    {
      "cell_type": "markdown",
      "source": [
        "##### 3. Will the gained insights help creating a positive business impact?\n",
        "\n",
        "Yes\n",
        "\n",
        "Are there any insights that lead to negative growth? Justify with specific reason.\n",
        "\n",
        "The \"Adults Only 18+\" category has the lowest average reviews, indicating fewer user interactions.\n",
        "  Reasons:\n",
        "Limited audience due to content restrictions.\n",
        "\n",
        "\n"
      ],
      "metadata": {
        "id": "F2aA4_FZWqx5"
      }
    },
    {
      "cell_type": "markdown",
      "source": [],
      "metadata": {
        "id": "ruHkiSsrmgls"
      }
    },
    {
      "cell_type": "markdown",
      "source": [
        "#### Chart - 05"
      ],
      "metadata": {
        "id": "lwA4UJ0FbMX_"
      }
    },
    {
      "cell_type": "code",
      "source": [
        "# Chart -05 visualization code\n",
        "from wordcloud import WordCloud\n",
        "wordcloud_genres = WordCloud(width=800, height=400, background_color='white').generate(' '.join(data['Genres']))\n",
        "plt.figure(figsize=(10, 6))\n",
        "plt.imshow(wordcloud_genres, interpolation='bilinear')\n",
        "plt.axis('off')\n",
        "plt.title('Word Cloud of Genres')\n",
        "plt.show()\n"
      ],
      "metadata": {
        "id": "meTZTR7SbMYA"
      },
      "execution_count": null,
      "outputs": []
    },
    {
      "cell_type": "markdown",
      "source": [
        "##### 1. Why did you pick the specific chart?"
      ],
      "metadata": {
        "id": "PbnmoHfdbMYB"
      }
    },
    {
      "cell_type": "markdown",
      "source": [
        "This chart shows the most popular apps by order of size, thus giving us a good idea of how much each kind of app is popular compared to the other"
      ],
      "metadata": {
        "id": "TkOm16x17EPy"
      }
    },
    {
      "cell_type": "markdown",
      "source": [
        "##### 2. What is/are the insight(s) found from the chart?"
      ],
      "metadata": {
        "id": "piInOFab6U5Y"
      }
    },
    {
      "cell_type": "markdown",
      "source": [
        "\n",
        "*  Medical, Tools, and Health & Fitness Are Dominant,These genres appear in the largest font, suggesting they have a high number of apps in the Play Store.\n",
        "\n",
        "*  Entertainment and Education Are Also Popular,\tThese genres are prominently displayed, showing that learning and leisure apps are also in demand.\n",
        "\n",
        "*  Although smaller, genres like Dating, News, and Magazines indicate specific audience demand.\n",
        "\n",
        "*  Travel and Local Services Have a Strong Presence\n",
        "\n",
        "\n",
        "\n",
        "\n",
        "\n",
        "\n",
        "\n",
        "\n",
        "\n",
        "\n",
        "  \n",
        "\n"
      ],
      "metadata": {
        "id": "SHg37aTb6U5Y"
      }
    },
    {
      "cell_type": "markdown",
      "source": [
        "##### 3. Will the gained insights help creating a positive business impact?\n",
        "\n",
        "Yes\n",
        "\n",
        "Are there any insights that lead to negative growth? Justify with specific reason.\n",
        "\n",
        "o\tThe market is oversaturated, making it difficult for new apps to stand out.\n",
        "\n"
      ],
      "metadata": {
        "id": "GKlGcNd97xO4"
      }
    },
    {
      "cell_type": "markdown",
      "source": [
        "#### Chart - 06"
      ],
      "metadata": {
        "id": "dnpWuDlIlk5m"
      }
    },
    {
      "cell_type": "code",
      "source": [
        "# Chart -06visualization code\n",
        "category_type_counts = data.groupby(['Category', 'Type']).size().unstack()\n",
        "category_type_counts.plot(kind='bar', stacked=False, figsize=(15, 7))\n",
        "plt.title('Apps by Category and Type')\n",
        "plt.xlabel('Category')\n",
        "plt.ylabel('Count')\n",
        "plt.legend(title='Type')\n",
        "plt.xticks(rotation=90)"
      ],
      "metadata": {
        "id": "BhTDHR1Al6mz"
      },
      "execution_count": null,
      "outputs": []
    },
    {
      "cell_type": "markdown",
      "source": [
        "##### 2. What is/are the insight(s) found from the chart?"
      ],
      "metadata": {
        "id": "7RIWqs7ubMYC"
      }
    },
    {
      "cell_type": "markdown",
      "source": [
        "#### Chart - 07"
      ],
      "metadata": {
        "id": "SwawXPdimlaZ"
      }
    },
    {
      "cell_type": "code",
      "source": [
        "# Chart -07 visualization code\n",
        "paid_apps = data[data['Price'] > 0]\n",
        "sns.scatterplot(x='Price', y='Installs', data=paid_apps)\n",
        "plt.title('Installs vs Price for Paid Apps')\n",
        "plt.xlabel('Price ($)')\n",
        "plt.ylabel('Installs')\n",
        "plt.show()\n"
      ],
      "metadata": {
        "id": "5OS6fkhNmlaa"
      },
      "execution_count": null,
      "outputs": []
    },
    {
      "cell_type": "markdown",
      "source": [
        "##### 1. Why did you pick the specific chart?"
      ],
      "metadata": {
        "id": "Ojmfn7jTmlaa"
      }
    },
    {
      "cell_type": "markdown",
      "source": [],
      "metadata": {
        "id": "NqigwIKnmlaa"
      }
    },
    {
      "cell_type": "markdown",
      "source": [
        "# Chart -05 visualization code"
      ],
      "metadata": {
        "id": "S7YJkg_2meX2"
      }
    }
  ]
}